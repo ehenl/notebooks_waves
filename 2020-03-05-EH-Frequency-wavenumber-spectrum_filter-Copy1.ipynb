{
 "cells": [
  {
   "cell_type": "code",
   "execution_count": 1,
   "metadata": {},
   "outputs": [],
   "source": [
    "## Path for modules\n",
    "\n",
    "import cartopy\n",
    "\n",
    "import xarray as xr\n",
    "import sys\n",
    "\n",
    "import numpy as np\n",
    "sys.path.insert(0,\"/mnt/meom/workdir/henelle/Notebooks/git/xscale\")\n",
    "import xscale\n",
    "import xscale.spectral.fft as xfft\n",
    "from matplotlib.colors import LogNorm\n",
    "import matplotlib.pylab as plt\n",
    "\n",
    "import cartopy.crs as ccrs\n",
    "import cartopy.feature as cfeature\n",
    "from cartopy.mpl.gridliner import LONGITUDE_FORMATTER, LATITUDE_FORMATTER\n",
    "\n",
    "sys.path.insert(0,\"/mnt/meom/workdir/henelle/Notebooks/git/powerspectrums\")\n",
    "import Wavenum_freq_spec_func as wfs\n"
   ]
  },
  {
   "cell_type": "markdown",
   "metadata": {},
   "source": [
    "## Dataset\n",
    "### Format netcdf"
   ]
  },
  {
   "cell_type": "code",
   "execution_count": 2,
   "metadata": {},
   "outputs": [],
   "source": [
    "data_dirT0 = '/mnt/meom/workdir/henelle/eNATL60/eNATL60-BLBT02-S/1h/ACO/'\n",
    "data_dir00 = '/mnt/meom/workdir/henelle/eNATL60/eNATL60-BLB002-S/1h/ACO/'\n",
    "dirfilt    = \"/mnt/meom/workdir/henelle/eNATL60/JFM-JAS/\""
   ]
  },
  {
   "cell_type": "code",
   "execution_count": 3,
   "metadata": {},
   "outputs": [],
   "source": [
    "# No tide\n",
    "tfilename_strain00 = data_dir00 + 'eNATL60ACO-BLB002_y*.1h_strain10m.nc'\n",
    "tfilename_curl00   = data_dir00 + 'eNATL60ACO-BLB002_y*.1h_curl10m.nc'"
   ]
  },
  {
   "cell_type": "code",
   "execution_count": 4,
   "metadata": {},
   "outputs": [],
   "source": [
    "# Tide\n",
    "tfilename_strainT0 = data_dirT0 + 'eNATL60ACO-BLBT02_y*.1h_strain10m.nc'\n",
    "tfilename_curlT0   = data_dirT0 + 'eNATL60ACO-BLBT02_y*.1h_curl10m.nc'"
   ]
  },
  {
   "cell_type": "code",
   "execution_count": 5,
   "metadata": {},
   "outputs": [],
   "source": [
    "strain00 = xr.open_mfdataset(tfilename_strain00,combine='by_coords')['sostrainoverf'][:]\n",
    "curl00   = xr.open_mfdataset(tfilename_curl00,combine='by_coords')['socurloverf'][:]"
   ]
  },
  {
   "cell_type": "code",
   "execution_count": 6,
   "metadata": {},
   "outputs": [
    {
     "data": {
      "text/html": [
       "<pre>&lt;xarray.DataArray &#x27;sostrainoverf&#x27; (time_counter: 4368, y: 1191, x: 781)&gt;\n",
       "dask.array&lt;concatenate, shape=(4368, 1191, 781), dtype=float32, chunksize=(24, 1191, 781), chunktype=numpy.ndarray&gt;\n",
       "Coordinates:\n",
       "  * time_counter  (time_counter) datetime64[ns] 2009-07-01T00:30:00 ... 2010-03-31T23:30:00\n",
       "Dimensions without coordinates: y, x\n",
       "Attributes:\n",
       "    units:             -\n",
       "    valid_min:         -1000.0\n",
       "    valid_max:         1000.0\n",
       "    long_name:         Relative_Vorticity (strain)\n",
       "    short_name:        sostrain\n",
       "    iweight:           1\n",
       "    online_operation:  N/A\n",
       "    axis:              TYX\n",
       "    savelog10:         0.0</pre>"
      ],
      "text/plain": [
       "<xarray.DataArray 'sostrainoverf' (time_counter: 4368, y: 1191, x: 781)>\n",
       "dask.array<concatenate, shape=(4368, 1191, 781), dtype=float32, chunksize=(24, 1191, 781), chunktype=numpy.ndarray>\n",
       "Coordinates:\n",
       "  * time_counter  (time_counter) datetime64[ns] 2009-07-01T00:30:00 ... 2010-03-31T23:30:00\n",
       "Dimensions without coordinates: y, x\n",
       "Attributes:\n",
       "    units:             -\n",
       "    valid_min:         -1000.0\n",
       "    valid_max:         1000.0\n",
       "    long_name:         Relative_Vorticity (strain)\n",
       "    short_name:        sostrain\n",
       "    iweight:           1\n",
       "    online_operation:  N/A\n",
       "    axis:              TYX\n",
       "    savelog10:         0.0"
      ]
     },
     "execution_count": 6,
     "metadata": {},
     "output_type": "execute_result"
    }
   ],
   "source": [
    "strainT0 = xr.open_mfdataset(tfilename_strainT0,combine='by_coords')['sostrainoverf'][:]\n",
    "curlT0   = xr.open_mfdataset(tfilename_curlT0,combine='by_coords')['socurloverf'][:]\n",
    "strainT0"
   ]
  },
  {
   "cell_type": "code",
   "execution_count": 7,
   "metadata": {},
   "outputs": [],
   "source": [
    "# Gives Memory Error when executing [14]\n",
    "navlat = xr.open_mfdataset(tfilename_strain00,combine='by_coords')['nav_lat']\n",
    "navlon = xr.open_mfdataset(tfilename_strain00,combine='by_coords')['nav_lon']"
   ]
  },
  {
   "cell_type": "code",
   "execution_count": 8,
   "metadata": {},
   "outputs": [],
   "source": [
    "# Occasional Memory Error when executing [14] as well \n",
    "\n",
    "#tfile = dirfilt + 'eNATL60ACO-BLB002_y2009_JAS.1d_strain_after_mean10m.nc'\n",
    "#navlat = xr.open_dataset(tfile)['nav_lat']\n",
    "#navlon = xr.open_dataset(tfile)['nav_lon']"
   ]
  },
  {
   "cell_type": "code",
   "execution_count": 9,
   "metadata": {},
   "outputs": [],
   "source": [
    "T=2*np.pi/(1E-4)"
   ]
  },
  {
   "cell_type": "code",
   "execution_count": 10,
   "metadata": {},
   "outputs": [
    {
     "data": {
      "text/html": [
       "<pre>&lt;xarray.DataArray &#x27;sostrainoverf&#x27; (time_counter: 4368, y: 1191, x: 781)&gt;\n",
       "dask.array&lt;mul, shape=(4368, 1191, 781), dtype=float32, chunksize=(24, 1191, 781), chunktype=numpy.ndarray&gt;\n",
       "Coordinates:\n",
       "  * time_counter  (time_counter) datetime64[ns] 2009-07-01T00:30:00 ... 2010-03-31T23:30:00\n",
       "Dimensions without coordinates: y, x</pre>"
      ],
      "text/plain": [
       "<xarray.DataArray 'sostrainoverf' (time_counter: 4368, y: 1191, x: 781)>\n",
       "dask.array<mul, shape=(4368, 1191, 781), dtype=float32, chunksize=(24, 1191, 781), chunktype=numpy.ndarray>\n",
       "Coordinates:\n",
       "  * time_counter  (time_counter) datetime64[ns] 2009-07-01T00:30:00 ... 2010-03-31T23:30:00\n",
       "Dimensions without coordinates: y, x"
      ]
     },
     "execution_count": 10,
     "metadata": {},
     "output_type": "execute_result"
    }
   ],
   "source": [
    "wstrainT0 = strainT0.window\n",
    "wstrainT0.set(n=48,dim='time_counter', cutoff=T)\n",
    "strainT0_filt = wstrainT0.convolve()\n",
    "strainT0_filt"
   ]
  },
  {
   "cell_type": "code",
   "execution_count": 11,
   "metadata": {},
   "outputs": [
    {
     "data": {
      "text/html": [
       "<pre>&lt;xarray.DataArray &#x27;sostrainoverf&#x27; (time_counter: 4368, y: 1191, x: 781)&gt;\n",
       "dask.array&lt;mul, shape=(4368, 1191, 781), dtype=float32, chunksize=(24, 1191, 781), chunktype=numpy.ndarray&gt;\n",
       "Coordinates:\n",
       "  * time_counter  (time_counter) datetime64[ns] 2009-07-01T00:30:00 ... 2010-03-31T23:30:00\n",
       "Dimensions without coordinates: y, x</pre>"
      ],
      "text/plain": [
       "<xarray.DataArray 'sostrainoverf' (time_counter: 4368, y: 1191, x: 781)>\n",
       "dask.array<mul, shape=(4368, 1191, 781), dtype=float32, chunksize=(24, 1191, 781), chunktype=numpy.ndarray>\n",
       "Coordinates:\n",
       "  * time_counter  (time_counter) datetime64[ns] 2009-07-01T00:30:00 ... 2010-03-31T23:30:00\n",
       "Dimensions without coordinates: y, x"
      ]
     },
     "execution_count": 11,
     "metadata": {},
     "output_type": "execute_result"
    }
   ],
   "source": [
    "wstrain00 = strain00.window\n",
    "wstrain00.set(n=48,dim='time_counter', cutoff=T)\n",
    "strain00_filt = wstrain00.convolve()\n",
    "strain00_filt"
   ]
  },
  {
   "cell_type": "code",
   "execution_count": 12,
   "metadata": {},
   "outputs": [
    {
     "data": {
      "text/html": [
       "<pre>&lt;xarray.DataArray &#x27;socurloverf&#x27; (time_counter: 4368, y: 1191, x: 781)&gt;\n",
       "dask.array&lt;mul, shape=(4368, 1191, 781), dtype=float32, chunksize=(24, 1191, 781), chunktype=numpy.ndarray&gt;\n",
       "Coordinates:\n",
       "  * time_counter  (time_counter) datetime64[ns] 2009-07-01T00:30:00 ... 2010-03-31T23:30:00\n",
       "Dimensions without coordinates: y, x</pre>"
      ],
      "text/plain": [
       "<xarray.DataArray 'socurloverf' (time_counter: 4368, y: 1191, x: 781)>\n",
       "dask.array<mul, shape=(4368, 1191, 781), dtype=float32, chunksize=(24, 1191, 781), chunktype=numpy.ndarray>\n",
       "Coordinates:\n",
       "  * time_counter  (time_counter) datetime64[ns] 2009-07-01T00:30:00 ... 2010-03-31T23:30:00\n",
       "Dimensions without coordinates: y, x"
      ]
     },
     "execution_count": 12,
     "metadata": {},
     "output_type": "execute_result"
    }
   ],
   "source": [
    "wcurlT0 = curlT0.window\n",
    "wcurlT0.set(n=48,dim='time_counter', cutoff=T)\n",
    "curlT0_filt = wcurlT0.convolve()\n",
    "curlT0_filt"
   ]
  },
  {
   "cell_type": "code",
   "execution_count": 13,
   "metadata": {},
   "outputs": [
    {
     "data": {
      "text/html": [
       "<pre>&lt;xarray.DataArray &#x27;socurloverf&#x27; (time_counter: 4368, y: 1191, x: 781)&gt;\n",
       "dask.array&lt;mul, shape=(4368, 1191, 781), dtype=float32, chunksize=(24, 1191, 781), chunktype=numpy.ndarray&gt;\n",
       "Coordinates:\n",
       "  * time_counter  (time_counter) datetime64[ns] 2009-07-01T00:30:00 ... 2010-03-31T23:30:00\n",
       "Dimensions without coordinates: y, x</pre>"
      ],
      "text/plain": [
       "<xarray.DataArray 'socurloverf' (time_counter: 4368, y: 1191, x: 781)>\n",
       "dask.array<mul, shape=(4368, 1191, 781), dtype=float32, chunksize=(24, 1191, 781), chunktype=numpy.ndarray>\n",
       "Coordinates:\n",
       "  * time_counter  (time_counter) datetime64[ns] 2009-07-01T00:30:00 ... 2010-03-31T23:30:00\n",
       "Dimensions without coordinates: y, x"
      ]
     },
     "execution_count": 13,
     "metadata": {},
     "output_type": "execute_result"
    }
   ],
   "source": [
    "wcurl00 = curl00.window\n",
    "wcurl00.set(n=48,dim='time_counter', cutoff=T)\n",
    "curl00_filt = wcurl00.convolve()\n",
    "curl00_filt"
   ]
  },
  {
   "cell_type": "code",
   "execution_count": 14,
   "metadata": {},
   "outputs": [
    {
     "ename": "MemoryError",
     "evalue": "Unable to allocate 3.80 GiB for an array with shape (169827840, 3) and data type int64",
     "output_type": "error",
     "traceback": [
      "\u001b[0;31m---------------------------------------------------------------------------\u001b[0m",
      "\u001b[0;31mMemoryError\u001b[0m                               Traceback (most recent call last)",
      "\u001b[0;32m<ipython-input-14-6559ca914f90>\u001b[0m in \u001b[0;36m<module>\u001b[0;34m\u001b[0m\n\u001b[1;32m      3\u001b[0m \u001b[0;34m\u001b[0m\u001b[0m\n\u001b[1;32m      4\u001b[0m \u001b[0mdomain\u001b[0m \u001b[0;34m=\u001b[0m \u001b[0;34m(\u001b[0m\u001b[0mbox\u001b[0m\u001b[0;34m[\u001b[0m\u001b[0;36m0\u001b[0m\u001b[0;34m]\u001b[0m\u001b[0;34m<\u001b[0m\u001b[0mnavlon\u001b[0m\u001b[0;34m)\u001b[0m\u001b[0;34m*\u001b[0m\u001b[0;34m(\u001b[0m\u001b[0mnavlon\u001b[0m\u001b[0;34m<\u001b[0m\u001b[0mbox\u001b[0m\u001b[0;34m[\u001b[0m\u001b[0;36m1\u001b[0m\u001b[0;34m]\u001b[0m\u001b[0;34m)\u001b[0m\u001b[0;34m*\u001b[0m\u001b[0;34m(\u001b[0m\u001b[0mbox\u001b[0m\u001b[0;34m[\u001b[0m\u001b[0;36m2\u001b[0m\u001b[0;34m]\u001b[0m\u001b[0;34m<\u001b[0m\u001b[0mnavlat\u001b[0m\u001b[0;34m)\u001b[0m\u001b[0;34m*\u001b[0m\u001b[0;34m(\u001b[0m\u001b[0mnavlat\u001b[0m\u001b[0;34m<\u001b[0m\u001b[0mbox\u001b[0m\u001b[0;34m[\u001b[0m\u001b[0;36m3\u001b[0m\u001b[0;34m]\u001b[0m\u001b[0;34m)\u001b[0m\u001b[0;34m\u001b[0m\u001b[0;34m\u001b[0m\u001b[0m\n\u001b[0;32m----> 5\u001b[0;31m \u001b[0mwhere\u001b[0m  \u001b[0;34m=\u001b[0m \u001b[0mnp\u001b[0m\u001b[0;34m.\u001b[0m\u001b[0mwhere\u001b[0m\u001b[0;34m(\u001b[0m\u001b[0mdomain\u001b[0m\u001b[0;34m)\u001b[0m\u001b[0;34m\u001b[0m\u001b[0;34m\u001b[0m\u001b[0m\n\u001b[0m\u001b[1;32m      6\u001b[0m \u001b[0mprint\u001b[0m\u001b[0;34m(\u001b[0m\u001b[0mwhere\u001b[0m\u001b[0;34m)\u001b[0m\u001b[0;34m\u001b[0m\u001b[0;34m\u001b[0m\u001b[0m\n\u001b[1;32m      7\u001b[0m \u001b[0;34m\u001b[0m\u001b[0m\n",
      "\u001b[0;32m<__array_function__ internals>\u001b[0m in \u001b[0;36mwhere\u001b[0;34m(*args, **kwargs)\u001b[0m\n",
      "\u001b[0;31mMemoryError\u001b[0m: Unable to allocate 3.80 GiB for an array with shape (169827840, 3) and data type int64"
     ]
    }
   ],
   "source": [
    "#box = (-34.5,-32.0,34.8,38.4)\n",
    "box = (-31,-28,33,36)\n",
    "\n",
    "domain = (box[0]<navlon)*(navlon<box[1])*(box[2]<navlat)*(navlat<box[3])\n",
    "where  = np.where(domain)\n",
    "print(where)\n",
    "\n",
    "#lats = navlat[where]\n",
    "#lons = navlon[where]"
   ]
  },
  {
   "cell_type": "code",
   "execution_count": null,
   "metadata": {},
   "outputs": [],
   "source": [
    "#ind = np.unravel_index(np.argmin(lats, axis=None), lats.shape)\n",
    "#jmin = where[0][ind[0]]\n",
    "#ind = np.unravel_index(np.argmax(lats, axis=None), lats.shape)\n",
    "#jmax = where[0][ind[0]]\n",
    "#ind = np.unravel_index(np.argmin(lons, axis=None), lons.shape)\n",
    "#imin = where[1][ind[1]]\n",
    "#ind = np.unravel_index(np.argmax(lons, axis=None), lons.shape)\n",
    "#imax = where[1][ind[1]]\n",
    "\n",
    "# Alternative for larger boxes (to avoid MemoryError)\n",
    "jmin = where[0][0]\n",
    "jmax = where[0][-1]\n",
    "imin = where[1][0]\n",
    "imax = where[1][-1]"
   ]
  },
  {
   "cell_type": "code",
   "execution_count": null,
   "metadata": {},
   "outputs": [],
   "source": [
    "print('jmin = '+str(jmin)+'; jmax = '+str(jmax))\n",
    "print('imin = '+str(imin)+'; imax = '+str(imax))"
   ]
  },
  {
   "cell_type": "code",
   "execution_count": null,
   "metadata": {},
   "outputs": [],
   "source": [
    "strainT0_filtbox = strainT0_filt[:,jmin:jmax+1,imin:imax+1]\n",
    "curlT0_filtbox   = curlT0_filt  [:,jmin:jmax+1,imin:imax+1]\n",
    "\n"
   ]
  },
  {
   "cell_type": "code",
   "execution_count": null,
   "metadata": {},
   "outputs": [],
   "source": []
  },
  {
   "cell_type": "code",
   "execution_count": null,
   "metadata": {},
   "outputs": [],
   "source": []
  },
  {
   "cell_type": "code",
   "execution_count": null,
   "metadata": {},
   "outputs": [],
   "source": []
  },
  {
   "cell_type": "code",
   "execution_count": null,
   "metadata": {},
   "outputs": [],
   "source": []
  },
  {
   "cell_type": "code",
   "execution_count": null,
   "metadata": {},
   "outputs": [],
   "source": []
  }
 ],
 "metadata": {
  "kernelspec": {
   "display_name": "Python 3",
   "language": "python",
   "name": "python3"
  },
  "language_info": {
   "codemirror_mode": {
    "name": "ipython",
    "version": 3
   },
   "file_extension": ".py",
   "mimetype": "text/x-python",
   "name": "python",
   "nbconvert_exporter": "python",
   "pygments_lexer": "ipython3",
   "version": "3.8.1"
  }
 },
 "nbformat": 4,
 "nbformat_minor": 4
}
