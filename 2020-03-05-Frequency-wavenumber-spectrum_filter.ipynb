{
 "cells": [
  {
   "cell_type": "code",
   "execution_count": 1,
   "metadata": {},
   "outputs": [],
   "source": [
    "## Path for modules\n",
    "\n",
    "import cartopy\n",
    "\n",
    "import xarray as xr\n",
    "import sys\n",
    "\n",
    "import numpy as np\n",
    "sys.path.insert(0,\"/mnt/meom/workdir/henelle/Notebooks/git/xscale\")\n",
    "import xscale\n",
    "import xscale.spectral.fft as xfft\n",
    "from matplotlib.colors import LogNorm\n",
    "#import cmocean\n",
    "import matplotlib.pylab as plt\n",
    "\n",
    "import cartopy.crs as ccrs\n",
    "import cartopy.feature as cfeature\n",
    "from cartopy.mpl.gridliner import LONGITUDE_FORMATTER, LATITUDE_FORMATTER\n",
    "\n",
    "sys.path.insert(0,\"/mnt/meom/workdir/henelle/Notebooks/git/powerspectrums\")\n",
    "import Wavenum_freq_spec_func as wfs\n",
    "\n"
   ]
  },
  {
   "cell_type": "markdown",
   "metadata": {},
   "source": [
    "## Dataset\n",
    "### Format netcdf"
   ]
  },
  {
   "cell_type": "code",
   "execution_count": 2,
   "metadata": {},
   "outputs": [],
   "source": [
    "data_dirT0 = '/mnt/meom/workdir/henelle/eNATL60/eNATL60-BLBT02-S/1h/ACO/'\n",
    "data_dir00 = '/mnt/meom/workdir/henelle/eNATL60/eNATL60-BLB002-S/1h/ACO/'\n",
    "dirfilt    = \"/mnt/meom/workdir/henelle/eNATL60/JFM-JAS/\""
   ]
  },
  {
   "cell_type": "code",
   "execution_count": 3,
   "metadata": {},
   "outputs": [],
   "source": [
    "tfilename_strain00 = data_dir00 + 'eNATL60ACO-BLB002_y*.1h_strain10m.nc'\n",
    "tfilename_curl00   = data_dir00 + 'eNATL60ACO-BLB002_y*.1h_curl10m.nc'"
   ]
  },
  {
   "cell_type": "code",
   "execution_count": 4,
   "metadata": {},
   "outputs": [],
   "source": [
    "tfilename_strainT0 = data_dirT0 + 'eNATL60ACO-BLBT02_y*.1h_strain10m.nc'\n",
    "tfilename_curlT0   = data_dirT0 + 'eNATL60ACO-BLBT02_y*.1h_curl10m.nc'"
   ]
  },
  {
   "cell_type": "code",
   "execution_count": 5,
   "metadata": {},
   "outputs": [],
   "source": [
    "strain00 = xr.open_mfdataset(tfilename_strain00,combine='by_coords')['sostrainoverf']\n",
    "curl00   = xr.open_mfdataset(tfilename_curl00,combine='by_coords')['socurloverf']"
   ]
  },
  {
   "cell_type": "code",
   "execution_count": 6,
   "metadata": {},
   "outputs": [],
   "source": [
    "strainT0 = xr.open_mfdataset(tfilename_strainT0,combine='by_coords')['sostrainoverf']\n",
    "curlT0   = xr.open_mfdataset(tfilename_curlT0,combine='by_coords')['socurloverf']"
   ]
  },
  {
   "cell_type": "code",
   "execution_count": 7,
   "metadata": {},
   "outputs": [],
   "source": [
    "tfile = dirfilt + 'eNATL60ACO-BLB002_y2009_JAS.1d_strain_after_mean10m.nc'\n",
    "navlat = xr.open_dataset(tfile)['nav_lat']\n",
    "navlon = xr.open_dataset(tfile)['nav_lon']"
   ]
  },
  {
   "cell_type": "code",
   "execution_count": 8,
   "metadata": {},
   "outputs": [],
   "source": [
    "T=2*np.pi/(1E-4)"
   ]
  },
  {
   "cell_type": "code",
   "execution_count": 9,
   "metadata": {},
   "outputs": [
    {
     "data": {
      "text/html": [
       "<pre>&lt;xarray.DataArray &#x27;sostrainoverf&#x27; (time_counter: 4368, y: 1191, x: 781)&gt;\n",
       "dask.array&lt;mul, shape=(4368, 1191, 781), dtype=float32, chunksize=(24, 1191, 781), chunktype=numpy.ndarray&gt;\n",
       "Coordinates:\n",
       "  * time_counter  (time_counter) datetime64[ns] 2009-07-01T00:30:00 ... 2010-03-31T23:30:00\n",
       "Dimensions without coordinates: y, x</pre>"
      ],
      "text/plain": [
       "<xarray.DataArray 'sostrainoverf' (time_counter: 4368, y: 1191, x: 781)>\n",
       "dask.array<mul, shape=(4368, 1191, 781), dtype=float32, chunksize=(24, 1191, 781), chunktype=numpy.ndarray>\n",
       "Coordinates:\n",
       "  * time_counter  (time_counter) datetime64[ns] 2009-07-01T00:30:00 ... 2010-03-31T23:30:00\n",
       "Dimensions without coordinates: y, x"
      ]
     },
     "execution_count": 9,
     "metadata": {},
     "output_type": "execute_result"
    }
   ],
   "source": [
    "wstrainT0 = strainT0.window\n",
    "wstrainT0.set(n=48,dim='time_counter', cutoff=T)\n",
    "strainT0_filt = wstrainT0.convolve()\n",
    "strainT0_filt"
   ]
  },
  {
   "cell_type": "code",
   "execution_count": 10,
   "metadata": {},
   "outputs": [
    {
     "data": {
      "text/html": [
       "<pre>&lt;xarray.DataArray &#x27;sostrainoverf&#x27; (time_counter: 4368, y: 1191, x: 781)&gt;\n",
       "dask.array&lt;mul, shape=(4368, 1191, 781), dtype=float32, chunksize=(24, 1191, 781), chunktype=numpy.ndarray&gt;\n",
       "Coordinates:\n",
       "  * time_counter  (time_counter) datetime64[ns] 2009-07-01T00:30:00 ... 2010-03-31T23:30:00\n",
       "Dimensions without coordinates: y, x</pre>"
      ],
      "text/plain": [
       "<xarray.DataArray 'sostrainoverf' (time_counter: 4368, y: 1191, x: 781)>\n",
       "dask.array<mul, shape=(4368, 1191, 781), dtype=float32, chunksize=(24, 1191, 781), chunktype=numpy.ndarray>\n",
       "Coordinates:\n",
       "  * time_counter  (time_counter) datetime64[ns] 2009-07-01T00:30:00 ... 2010-03-31T23:30:00\n",
       "Dimensions without coordinates: y, x"
      ]
     },
     "execution_count": 10,
     "metadata": {},
     "output_type": "execute_result"
    }
   ],
   "source": [
    "wstrain00 = strain00.window\n",
    "wstrain00.set(n=48,dim='time_counter', cutoff=T)\n",
    "strain00_filt = wstrain00.convolve()\n",
    "strain00_filt"
   ]
  },
  {
   "cell_type": "code",
   "execution_count": 11,
   "metadata": {},
   "outputs": [
    {
     "data": {
      "text/html": [
       "<pre>&lt;xarray.DataArray &#x27;socurloverf&#x27; (time_counter: 4368, y: 1191, x: 781)&gt;\n",
       "dask.array&lt;mul, shape=(4368, 1191, 781), dtype=float32, chunksize=(24, 1191, 781), chunktype=numpy.ndarray&gt;\n",
       "Coordinates:\n",
       "  * time_counter  (time_counter) datetime64[ns] 2009-07-01T00:30:00 ... 2010-03-31T23:30:00\n",
       "Dimensions without coordinates: y, x</pre>"
      ],
      "text/plain": [
       "<xarray.DataArray 'socurloverf' (time_counter: 4368, y: 1191, x: 781)>\n",
       "dask.array<mul, shape=(4368, 1191, 781), dtype=float32, chunksize=(24, 1191, 781), chunktype=numpy.ndarray>\n",
       "Coordinates:\n",
       "  * time_counter  (time_counter) datetime64[ns] 2009-07-01T00:30:00 ... 2010-03-31T23:30:00\n",
       "Dimensions without coordinates: y, x"
      ]
     },
     "execution_count": 11,
     "metadata": {},
     "output_type": "execute_result"
    }
   ],
   "source": [
    "wcurlT0 = curlT0.window\n",
    "wcurlT0.set(n=48,dim='time_counter', cutoff=T)\n",
    "curlT0_filt = wcurlT0.convolve()\n",
    "curlT0_filt"
   ]
  },
  {
   "cell_type": "code",
   "execution_count": 12,
   "metadata": {},
   "outputs": [
    {
     "data": {
      "text/html": [
       "<pre>&lt;xarray.DataArray &#x27;socurloverf&#x27; (time_counter: 4368, y: 1191, x: 781)&gt;\n",
       "dask.array&lt;mul, shape=(4368, 1191, 781), dtype=float32, chunksize=(24, 1191, 781), chunktype=numpy.ndarray&gt;\n",
       "Coordinates:\n",
       "  * time_counter  (time_counter) datetime64[ns] 2009-07-01T00:30:00 ... 2010-03-31T23:30:00\n",
       "Dimensions without coordinates: y, x</pre>"
      ],
      "text/plain": [
       "<xarray.DataArray 'socurloverf' (time_counter: 4368, y: 1191, x: 781)>\n",
       "dask.array<mul, shape=(4368, 1191, 781), dtype=float32, chunksize=(24, 1191, 781), chunktype=numpy.ndarray>\n",
       "Coordinates:\n",
       "  * time_counter  (time_counter) datetime64[ns] 2009-07-01T00:30:00 ... 2010-03-31T23:30:00\n",
       "Dimensions without coordinates: y, x"
      ]
     },
     "execution_count": 12,
     "metadata": {},
     "output_type": "execute_result"
    }
   ],
   "source": [
    "wcurl00 = curl00.window\n",
    "wcurl00.set(n=48,dim='time_counter', cutoff=T)\n",
    "curl00_filt = wcurl00.convolve()\n",
    "curl00_filt"
   ]
  },
  {
   "cell_type": "code",
   "execution_count": 13,
   "metadata": {},
   "outputs": [
    {
     "name": "stdout",
     "output_type": "stream",
     "text": [
      "(array([667, 667, 667, ..., 882, 882, 882]), array([384, 385, 386, ..., 561, 562, 563]))\n"
     ]
    }
   ],
   "source": [
    "#box = (-34.5,-32.0,34.8,38.4)\n",
    "box = (-31,-28,33,36)\n",
    "\n",
    "domain = (box[0]<navlon)*(navlon<box[1])*(box[2]<navlat)*(navlat<box[3])\n",
    "where  = np.where(domain)\n",
    "print(where)\n",
    "\n",
    "lats = navlat[where]\n",
    "lons = navlon[where]"
   ]
  },
  {
   "cell_type": "code",
   "execution_count": 14,
   "metadata": {},
   "outputs": [],
   "source": [
    "ind = np.unravel_index(np.argmin(lats, axis=None), lats.shape)\n",
    "jmin = where[0][ind[0]]\n",
    "ind = np.unravel_index(np.argmax(lats, axis=None), lats.shape)\n",
    "jmax = where[0][ind[0]]\n",
    "ind = np.unravel_index(np.argmin(lons, axis=None), lons.shape)\n",
    "imin = where[1][ind[1]]\n",
    "ind = np.unravel_index(np.argmax(lons, axis=None), lons.shape)\n",
    "imax = where[1][ind[1]]\n",
    "\n",
    "# Alternative for larger boxes (to avoid MemoryError)\n",
    "#jmin = where[0][0]\n",
    "#jmax = where[0][-1]\n",
    "#imin = where[1][0]\n",
    "#imax = where[1][-1]"
   ]
  },
  {
   "cell_type": "code",
   "execution_count": 15,
   "metadata": {},
   "outputs": [
    {
     "name": "stdout",
     "output_type": "stream",
     "text": [
      "jmin = 667; jmax = 882\n",
      "imin = 384; imax = 563\n"
     ]
    }
   ],
   "source": [
    "print('jmin = '+str(jmin)+'; jmax = '+str(jmax))\n",
    "print('imin = '+str(imin)+'; imax = '+str(imax))"
   ]
  },
  {
   "cell_type": "code",
   "execution_count": 16,
   "metadata": {},
   "outputs": [
    {
     "ename": "AttributeError",
     "evalue": "'DataArray' object has no attribute 'nav_lon'",
     "output_type": "error",
     "traceback": [
      "\u001b[0;31m---------------------------------------------------------------------------\u001b[0m",
      "\u001b[0;31mAttributeError\u001b[0m                            Traceback (most recent call last)",
      "\u001b[0;32m<ipython-input-16-6aa8bf8285a2>\u001b[0m in \u001b[0;36m<module>\u001b[0;34m\u001b[0m\n\u001b[1;32m      2\u001b[0m \u001b[0mcurlT0_filtbox\u001b[0m   \u001b[0;34m=\u001b[0m \u001b[0mcurlT0_filt\u001b[0m  \u001b[0;34m[\u001b[0m\u001b[0;34m:\u001b[0m\u001b[0;34m,\u001b[0m\u001b[0mjmin\u001b[0m\u001b[0;34m:\u001b[0m\u001b[0mjmax\u001b[0m\u001b[0;34m+\u001b[0m\u001b[0;36m1\u001b[0m\u001b[0;34m,\u001b[0m\u001b[0mimin\u001b[0m\u001b[0;34m:\u001b[0m\u001b[0mimax\u001b[0m\u001b[0;34m+\u001b[0m\u001b[0;36m1\u001b[0m\u001b[0;34m]\u001b[0m\u001b[0;34m\u001b[0m\u001b[0;34m\u001b[0m\u001b[0m\n\u001b[1;32m      3\u001b[0m \u001b[0;34m\u001b[0m\u001b[0m\n\u001b[0;32m----> 4\u001b[0;31m \u001b[0mdx\u001b[0m\u001b[0;34m,\u001b[0m\u001b[0mdy\u001b[0m \u001b[0;34m=\u001b[0m \u001b[0mwfs\u001b[0m\u001b[0;34m.\u001b[0m\u001b[0mget_dx_dy\u001b[0m\u001b[0;34m(\u001b[0m\u001b[0mstrainT0_filtbox\u001b[0m\u001b[0;34m[\u001b[0m\u001b[0;36m0\u001b[0m\u001b[0;34m]\u001b[0m\u001b[0;34m)\u001b[0m\u001b[0;34m\u001b[0m\u001b[0;34m\u001b[0m\u001b[0m\n\u001b[0m\u001b[1;32m      5\u001b[0m \u001b[0mstrainT0_No_NaN\u001b[0m \u001b[0;34m=\u001b[0m \u001b[0mstrainT0_filtbox\u001b[0m\u001b[0;34m.\u001b[0m\u001b[0minterpolate_na\u001b[0m\u001b[0;34m(\u001b[0m\u001b[0mdim\u001b[0m\u001b[0;34m=\u001b[0m\u001b[0;34m'y'\u001b[0m\u001b[0;34m)\u001b[0m\u001b[0;34m\u001b[0m\u001b[0;34m\u001b[0m\u001b[0m\n\u001b[1;32m      6\u001b[0m \u001b[0mstrainT0_dtr\u001b[0m \u001b[0;34m=\u001b[0m \u001b[0mwfs\u001b[0m\u001b[0;34m.\u001b[0m\u001b[0mdetrendn\u001b[0m\u001b[0;34m(\u001b[0m\u001b[0mstrainT0_No_NaN\u001b[0m\u001b[0;34m,\u001b[0m\u001b[0maxes\u001b[0m\u001b[0;34m=\u001b[0m\u001b[0;34m[\u001b[0m\u001b[0;36m0\u001b[0m\u001b[0;34m,\u001b[0m\u001b[0;36m1\u001b[0m\u001b[0;34m,\u001b[0m\u001b[0;36m2\u001b[0m\u001b[0;34m]\u001b[0m\u001b[0;34m)\u001b[0m\u001b[0;34m\u001b[0m\u001b[0;34m\u001b[0m\u001b[0m\n",
      "\u001b[0;32m/mnt/meom/workdir/henelle/Notebooks/git/powerspectrums/Wavenum_freq_spec_func.py\u001b[0m in \u001b[0;36mget_dx_dy\u001b[0;34m(data)\u001b[0m\n\u001b[1;32m     22\u001b[0m \u001b[0;32mdef\u001b[0m \u001b[0mget_dx_dy\u001b[0m\u001b[0;34m(\u001b[0m\u001b[0mdata\u001b[0m\u001b[0;34m)\u001b[0m\u001b[0;34m:\u001b[0m\u001b[0;34m\u001b[0m\u001b[0;34m\u001b[0m\u001b[0m\n\u001b[1;32m     23\u001b[0m     \u001b[0;31m# Obtain dx and dy\u001b[0m\u001b[0;34m\u001b[0m\u001b[0;34m\u001b[0m\u001b[0;34m\u001b[0m\u001b[0m\n\u001b[0;32m---> 24\u001b[0;31m     \u001b[0mx\u001b[0m\u001b[0;34m,\u001b[0m\u001b[0my\u001b[0m\u001b[0;34m,\u001b[0m\u001b[0mdat\u001b[0m \u001b[0;34m=\u001b[0m \u001b[0mps\u001b[0m\u001b[0;34m.\u001b[0m\u001b[0minterpolate\u001b[0m\u001b[0;34m(\u001b[0m\u001b[0mdata\u001b[0m\u001b[0;34m,\u001b[0m\u001b[0mnp\u001b[0m\u001b[0;34m.\u001b[0m\u001b[0marray\u001b[0m\u001b[0;34m(\u001b[0m\u001b[0mdata\u001b[0m\u001b[0;34m.\u001b[0m\u001b[0mnav_lon\u001b[0m\u001b[0;34m)\u001b[0m\u001b[0;34m,\u001b[0m\u001b[0mnp\u001b[0m\u001b[0;34m.\u001b[0m\u001b[0marray\u001b[0m\u001b[0;34m(\u001b[0m\u001b[0mdata\u001b[0m\u001b[0;34m.\u001b[0m\u001b[0mnav_lat\u001b[0m\u001b[0;34m)\u001b[0m\u001b[0;34m)\u001b[0m\u001b[0;34m\u001b[0m\u001b[0;34m\u001b[0m\u001b[0m\n\u001b[0m\u001b[1;32m     25\u001b[0m     \u001b[0mx1\u001b[0m\u001b[0;34m,\u001b[0m\u001b[0my1\u001b[0m \u001b[0;34m=\u001b[0m \u001b[0mx\u001b[0m\u001b[0;34m[\u001b[0m\u001b[0;36m0\u001b[0m\u001b[0;34m,\u001b[0m\u001b[0;34m:\u001b[0m\u001b[0;34m]\u001b[0m\u001b[0;34m,\u001b[0m\u001b[0my\u001b[0m\u001b[0;34m[\u001b[0m\u001b[0;34m:\u001b[0m\u001b[0;34m,\u001b[0m\u001b[0;36m0\u001b[0m\u001b[0;34m]\u001b[0m\u001b[0;34m\u001b[0m\u001b[0;34m\u001b[0m\u001b[0m\n\u001b[1;32m     26\u001b[0m     \u001b[0mdx\u001b[0m\u001b[0;34m=\u001b[0m\u001b[0mnp\u001b[0m\u001b[0;34m.\u001b[0m\u001b[0mint\u001b[0m\u001b[0;34m(\u001b[0m\u001b[0mnp\u001b[0m\u001b[0;34m.\u001b[0m\u001b[0mceil\u001b[0m\u001b[0;34m(\u001b[0m\u001b[0mx1\u001b[0m\u001b[0;34m[\u001b[0m\u001b[0;36m1\u001b[0m\u001b[0;34m]\u001b[0m\u001b[0;34m-\u001b[0m\u001b[0mx1\u001b[0m\u001b[0;34m[\u001b[0m\u001b[0;36m0\u001b[0m\u001b[0;34m]\u001b[0m\u001b[0;34m)\u001b[0m\u001b[0;34m)\u001b[0m\u001b[0;34m\u001b[0m\u001b[0;34m\u001b[0m\u001b[0m\n",
      "\u001b[0;32m/mnt/meom/workdir/henelle/.Anaconda3/envs/erh1/lib/python3.8/site-packages/xarray/core/common.py\u001b[0m in \u001b[0;36m__getattr__\u001b[0;34m(self, name)\u001b[0m\n\u001b[1;32m    230\u001b[0m                 \u001b[0;32mwith\u001b[0m \u001b[0msuppress\u001b[0m\u001b[0;34m(\u001b[0m\u001b[0mKeyError\u001b[0m\u001b[0;34m)\u001b[0m\u001b[0;34m:\u001b[0m\u001b[0;34m\u001b[0m\u001b[0;34m\u001b[0m\u001b[0m\n\u001b[1;32m    231\u001b[0m                     \u001b[0;32mreturn\u001b[0m \u001b[0msource\u001b[0m\u001b[0;34m[\u001b[0m\u001b[0mname\u001b[0m\u001b[0;34m]\u001b[0m\u001b[0;34m\u001b[0m\u001b[0;34m\u001b[0m\u001b[0m\n\u001b[0;32m--> 232\u001b[0;31m         raise AttributeError(\n\u001b[0m\u001b[1;32m    233\u001b[0m             \u001b[0;34m\"{!r} object has no attribute {!r}\"\u001b[0m\u001b[0;34m.\u001b[0m\u001b[0mformat\u001b[0m\u001b[0;34m(\u001b[0m\u001b[0mtype\u001b[0m\u001b[0;34m(\u001b[0m\u001b[0mself\u001b[0m\u001b[0;34m)\u001b[0m\u001b[0;34m.\u001b[0m\u001b[0m__name__\u001b[0m\u001b[0;34m,\u001b[0m \u001b[0mname\u001b[0m\u001b[0;34m)\u001b[0m\u001b[0;34m\u001b[0m\u001b[0;34m\u001b[0m\u001b[0m\n\u001b[1;32m    234\u001b[0m         )\n",
      "\u001b[0;31mAttributeError\u001b[0m: 'DataArray' object has no attribute 'nav_lon'"
     ]
    }
   ],
   "source": [
    "strainT0_filtbox = strainT0_filt[:,jmin:jmax+1,imin:imax+1]\n",
    "curlT0_filtbox   = curlT0_filt  [:,jmin:jmax+1,imin:imax+1]\n",
    "\n",
    "dx,dy = wfs.get_dx_dy(strainT0_filtbox[0])\n",
    "strainT0_No_NaN = strainT0_filtbox.interpolate_na(dim='y')\n",
    "strainT0_dtr = wfs.detrendn(strainT0_No_NaN,axes=[0,1,2])\n",
    "strainT0_wdw = wfs.apply_window(strainT0_dtr, strainT0_dtr.dims, window_type='hanning')\n",
    "strainT0hat = xfft.fft(strainT0_wdw, dim=('time_counter', 'x', 'y'), dx={'x': dx, 'y': dx}, sym=True)\n",
    "strainT0_psd = xfft.psd(strainT0hat)\n",
    "strainT0_frequency,kx,ky = wfs.get_f_kx_ky(strainT0hat)\n",
    "strainT0filt_wavenumber,kradial = wfs.get_wavnum_kradial(kx,ky)\n",
    "strainT0filt_psd_np = strainT0_psd.values\n",
    "strainT0filt_wavenum_freq_spectrum = wfs.get_f_k_in_2D(kradial,strainT0filt_wavenumber,strainT0filt_psd_np)\n",
    "\n",
    "dx,dy = wfs.get_dx_dy(curlT0_filtbox[0])\n",
    "curlT0_No_NaN = curlT0_filtbox.interpolate_na(dim='y')\n",
    "curlT0_dtr = wfs.detrendn(curlT0_No_NaN,axes=[0,1,2])\n",
    "curlT0_wdw = wfs.apply_window(curlT0_dtr, curlT0_dtr.dims, window_type='hanning')\n",
    "curlT0hat = xfft.fft(curlT0_wdw, dim=('time_counter', 'x', 'y'), dx={'x': dx, 'y': dx}, sym=True)\n",
    "curlT0_psd = xfft.psd(curlT0hat)\n",
    "curlT0_frequency,kx,ky = wfs.get_f_kx_ky(curlT0hat)\n",
    "curlT0filt_wavenumber,kradial = wfs.get_wavnum_kradial(kx,ky)\n",
    "curlT0filt_psd_np = curlT0_psd.values\n",
    "curlT0filt_wavenum_freq_spectrum = wfs.get_f_k_in_2D(kradial,curlT0filt_wavenumber,curlT0filt_psd_np)\n",
    "\n",
    "KEtidefilt_wavenum_freq_spectrum=0.5*(strainT0filt_wavenum_freq_spectrum+curlT0filt_wavenum_freq_spectrum)"
   ]
  },
  {
   "cell_type": "code",
   "execution_count": null,
   "metadata": {},
   "outputs": [],
   "source": [
    "KEtidefilt_wavenum_freq_spectrum"
   ]
  },
  {
   "cell_type": "code",
   "execution_count": null,
   "metadata": {},
   "outputs": [],
   "source": []
  }
 ],
 "metadata": {
  "kernelspec": {
   "display_name": "Python 3",
   "language": "python",
   "name": "python3"
  },
  "language_info": {
   "codemirror_mode": {
    "name": "ipython",
    "version": 3
   },
   "file_extension": ".py",
   "mimetype": "text/x-python",
   "name": "python",
   "nbconvert_exporter": "python",
   "pygments_lexer": "ipython3",
   "version": "3.8.1"
  }
 },
 "nbformat": 4,
 "nbformat_minor": 4
}
