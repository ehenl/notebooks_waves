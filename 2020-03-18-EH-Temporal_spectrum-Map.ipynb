{
 "cells": [
  {
   "cell_type": "code",
   "execution_count": 1,
   "metadata": {},
   "outputs": [],
   "source": [
    "## Path for modules\n",
    "\n",
    "import warnings\n",
    "warnings.filterwarnings(\"ignore\")\n",
    "\n",
    "import sys\n",
    "\n",
    "import numpy as np\n",
    "import xarray as xr\n",
    "\n",
    "from netCDF4 import Dataset\n",
    "\n",
    "sys.path.insert(0,\"/mnt/meom/workdir/henelle/Notebooks/git/xscale\")\n",
    "import xscale\n",
    "import xscale.spectral.fft as xfft\n",
    "from xscale.spectral.tools import plot_spectrum\n",
    "import xscale.signal.generator as xgen\n",
    "\n",
    "import cartopy.crs as ccrs\n",
    "import cartopy.feature as cfeature\n",
    "from cartopy.mpl.gridliner import LONGITUDE_FORMATTER, LATITUDE_FORMATTER\n",
    "\n",
    "import numpy.ma as ma\n",
    "\n",
    "import matplotlib.cm as mplcm\n",
    "import matplotlib.colors as colors\n",
    "from matplotlib import gridspec\n",
    "from mpl_toolkits.axes_grid1 import make_axes_locatable\n",
    "\n",
    "seq_cmap = mplcm.Blues\n",
    "div_cmap = mplcm.seismic\n",
    "\n",
    "import matplotlib.pyplot as plt\n",
    "import matplotlib as mpl\n",
    "from datetime import date, datetime\n",
    "from xhistogram.xarray import histogram\n",
    "\n",
    "import pandas as pd\n",
    "\n",
    "import seaborn as sns\n",
    "sns.set(color_codes=True)\n",
    "\n",
    "import dask \n",
    "\n",
    "import os \n",
    "import time \n",
    "import glob\n",
    "today=date.today()\n",
    "\n",
    "\n",
    "\n",
    "params = {'figure.figsize' : (18, 10),'legend.fontsize': 16,'xtick.labelsize':16,'ytick.labelsize':16,'axes.labelsize':16,'font.size':16}\n",
    "plt.rcParams.update(params)\n",
    "\n",
    "%matplotlib inline"
   ]
  },
  {
   "cell_type": "markdown",
   "metadata": {},
   "source": [
    "## Dataset\n",
    "### Format netcdf"
   ]
  },
  {
   "cell_type": "code",
   "execution_count": 2,
   "metadata": {},
   "outputs": [],
   "source": [
    "data_dir             = '/mnt/meom/workdir/henelle/eNATL60/JFM-JAS/'\n",
    "tfilename_strain_JAS = data_dir+'eNATL60ACO-BLB002_y2009_JAS.1d_strain_after_mean10m.nc'\n",
    "tfilename_strain_JFM = data_dir+'eNATL60ACO-BLB002_y2010_JFM.1d_strain_after_mean10m.nc'\n",
    "tfilename_curl_JAS   = data_dir+'eNATL60ACO-BLB002_y2009_JAS.1d_curl_after_mean10m.nc'\n",
    "tfilename_curl_JFM   = data_dir+'eNATL60ACO-BLB002_y2010_JFM.1d_curl_after_mean10m.nc'\n",
    "\n",
    "#tfilename = sorted(glob.glob(data_dir+'eNATL60ACO-BLB002_y2009_JAS.1d_strain_after_mean10m.nc'))\n",
    "#filename =tfilename[0]"
   ]
  },
  {
   "cell_type": "code",
   "execution_count": 3,
   "metadata": {},
   "outputs": [
    {
     "name": "stdout",
     "output_type": "stream",
     "text": [
      "CPU times: user 12 ms, sys: 4 ms, total: 16 ms\n",
      "Wall time: 104 ms\n",
      "CPU times: user 12 ms, sys: 0 ns, total: 12 ms\n",
      "Wall time: 51 ms\n",
      "CPU times: user 12 ms, sys: 0 ns, total: 12 ms\n",
      "Wall time: 62.4 ms\n",
      "CPU times: user 12 ms, sys: 0 ns, total: 12 ms\n",
      "Wall time: 38.9 ms\n"
     ]
    }
   ],
   "source": [
    "%time dsn_strain_JAS = xr.open_mfdataset(tfilename_strain_JAS)['sostrainoverf']\n",
    "%time dsn_strain_JFM = xr.open_mfdataset(tfilename_strain_JFM)['sostrainoverf']\n",
    "%time dsn_curl_JAS   = xr.open_mfdataset(tfilename_curl_JAS)['socurloverf']\n",
    "%time dsn_curl_JFM   = xr.open_mfdataset(tfilename_curl_JFM)['socurloverf']"
   ]
  },
  {
   "cell_type": "code",
   "execution_count": 4,
   "metadata": {},
   "outputs": [
    {
     "name": "stdout",
     "output_type": "stream",
     "text": [
      "<xarray.DataArray 'sostrainoverf' (time_counter: 92, y: 1191, x: 781)>\n",
      "dask.array<open_dataset-bd58c22382f678ef787043f530c8b017sostrainoverf, shape=(92, 1191, 781), dtype=float32, chunksize=(92, 1191, 781), chunktype=numpy.ndarray>\n",
      "Coordinates:\n",
      "  * time_counter  (time_counter) datetime64[ns] 2009-07-01T12:00:00 ... 2009-09-30T12:00:00\n",
      "Dimensions without coordinates: y, x\n",
      "Attributes:\n",
      "    units:             -\n",
      "    valid_min:         -1000.0\n",
      "    valid_max:         1000.0\n",
      "    long_name:         Relative_Vorticity (strain)\n",
      "    short_name:        sostrain\n",
      "    iweight:           1\n",
      "    online_operation:  N/A\n",
      "    axis:              TYX\n",
      "    savelog10:         0.0\n",
      "0.342302928\n"
     ]
    }
   ],
   "source": [
    "print(dsn_strain_JAS)\n",
    "print(dsn_strain_JAS.nbytes/1e9)"
   ]
  },
  {
   "cell_type": "code",
   "execution_count": 5,
   "metadata": {},
   "outputs": [],
   "source": [
    "dsn_sorted_strain_JAS = dsn_strain_JAS.sortby('time_counter')\n",
    "dsn_sorted_strain_JFM = dsn_strain_JFM.sortby('time_counter')\n",
    "dsn_sorted_curl_JAS   = dsn_curl_JAS.  sortby('time_counter')\n",
    "dsn_sorted_curl_JFM   = dsn_curl_JFM.   sortby('time_counter')"
   ]
  },
  {
   "cell_type": "markdown",
   "metadata": {},
   "source": [
    "### Selecting time frame and 1 point"
   ]
  },
  {
   "cell_type": "code",
   "execution_count": 6,
   "metadata": {},
   "outputs": [
    {
     "data": {
      "text/html": [
       "<pre>&lt;xarray.DataArray &#x27;sostrainoverf&#x27; (time_counter: 92, y: 1191, x: 781)&gt;\n",
       "dask.array&lt;getitem, shape=(92, 1191, 781), dtype=float32, chunksize=(92, 1191, 781), chunktype=numpy.ndarray&gt;\n",
       "Coordinates:\n",
       "  * time_counter  (time_counter) datetime64[ns] 2009-07-01T12:00:00 ... 2009-09-30T12:00:00\n",
       "Dimensions without coordinates: y, x\n",
       "Attributes:\n",
       "    units:             -\n",
       "    valid_min:         -1000.0\n",
       "    valid_max:         1000.0\n",
       "    long_name:         Relative_Vorticity (strain)\n",
       "    short_name:        sostrain\n",
       "    iweight:           1\n",
       "    online_operation:  N/A\n",
       "    axis:              TYX\n",
       "    savelog10:         0.0</pre>"
      ],
      "text/plain": [
       "<xarray.DataArray 'sostrainoverf' (time_counter: 92, y: 1191, x: 781)>\n",
       "dask.array<getitem, shape=(92, 1191, 781), dtype=float32, chunksize=(92, 1191, 781), chunktype=numpy.ndarray>\n",
       "Coordinates:\n",
       "  * time_counter  (time_counter) datetime64[ns] 2009-07-01T12:00:00 ... 2009-09-30T12:00:00\n",
       "Dimensions without coordinates: y, x\n",
       "Attributes:\n",
       "    units:             -\n",
       "    valid_min:         -1000.0\n",
       "    valid_max:         1000.0\n",
       "    long_name:         Relative_Vorticity (strain)\n",
       "    short_name:        sostrain\n",
       "    iweight:           1\n",
       "    online_operation:  N/A\n",
       "    axis:              TYX\n",
       "    savelog10:         0.0"
      ]
     },
     "execution_count": 6,
     "metadata": {},
     "output_type": "execute_result"
    }
   ],
   "source": [
    "strain_JAS     = dsn_sorted_strain_JAS.sel(time_counter=slice('2009-07-01','2009-09-30'))\n",
    "strain_JAS_1pt = dsn_sorted_strain_JAS.sel(time_counter=slice('2009-07-01','2009-09-30'),y=1000,x=700)\n",
    "\n",
    "strain_JFM     = dsn_sorted_strain_JFM.sel(time_counter=slice('2010-01-01','2010-03-31'))\n",
    "strain_JFM_1pt = dsn_sorted_strain_JFM.sel(time_counter=slice('2010-01-01','2010-03-31'),y=1000,x=700)\n",
    "\n",
    "curl_JAS     = dsn_sorted_curl_JAS.sel(time_counter=slice('2009-07-01','2009-09-30'))\n",
    "curl_JAS_1pt = dsn_sorted_curl_JAS.sel(time_counter=slice('2009-07-01','2009-09-30'),y=1000,x=700)\n",
    "\n",
    "curl_JFM     = dsn_sorted_curl_JFM.sel(time_counter=slice('2010-01-01','2010-03-31'))\n",
    "curl_JFM_1pt = dsn_sorted_curl_JFM.sel(time_counter=slice('2010-01-01','2010-03-31'),y=1000,x=700)\n",
    "\n",
    "strain_JAS"
   ]
  },
  {
   "cell_type": "code",
   "execution_count": 32,
   "metadata": {},
   "outputs": [
    {
     "data": {
      "image/png": "[encoded data removed]",
      "text/plain": [
       "<Figure size 1080x720 with 1 Axes>"
      ]
     },
     "metadata": {
      "needs_background": "light"
     },
     "output_type": "display_data"
    }
   ],
   "source": [
    "fig=plt.figure(figsize=(15,10))\n",
    "ax = plt.subplot(111,projection=ccrs.PlateCarree(central_longitude=0))\n",
    "ax.set_extent((-31.5, -25, 36, 40))\n",
    "land = cfeature.GSHHSFeature(scale='intermediate',\n",
    "                                 levels=[1],\n",
    "                                 facecolor=cfeature.COLORS['land'])\n",
    "ax.add_feature(land)\n",
    "gl = ax.gridlines(draw_labels=True, linestyle=':', color='black',\n",
    "                      alpha=0.5)\n",
    "gl.xlabels_top = False\n",
    "gl.ylabels_right = False\n",
    "gl.xformatter = LONGITUDE_FORMATTER\n",
    "gl.yformatter = LATITUDE_FORMATTER\n",
    "gl.xlabel_style = {'size': 18, 'color': 'dimgray'}\n",
    "gl.ylabel_style = {'size': 18, 'color': 'dimgray'}\n",
    "ax.tick_params('both',labelsize=20)\n",
    "\n",
    "ax.scatter(-25.7,37.57,marker='x',color='r',s=500)\n",
    "plt.savefig('Temporal_spectrum_curl_1point_Map'+'.png',dpi=100,bbox_inches='tight',pad_inches=0.1)"
   ]
  },
  {
   "cell_type": "code",
   "execution_count": null,
   "metadata": {},
   "outputs": [],
   "source": []
  }
 ],
 "metadata": {
  "kernelspec": {
   "display_name": "Python 3",
   "language": "python",
   "name": "python3"
  },
  "language_info": {
   "codemirror_mode": {
    "name": "ipython",
    "version": 3
   },
   "file_extension": ".py",
   "mimetype": "text/x-python",
   "name": "python",
   "nbconvert_exporter": "python",
   "pygments_lexer": "ipython3",
   "version": "3.8.1"
  }
 },
 "nbformat": 4,
 "nbformat_minor": 4
}
