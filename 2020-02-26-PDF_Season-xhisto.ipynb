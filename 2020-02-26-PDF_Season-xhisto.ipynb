{
 "cells": [
  {
   "cell_type": "code",
   "execution_count": 1,
   "metadata": {},
   "outputs": [],
   "source": [
    "## Path for modules\n",
    "\n",
    "import sys\n",
    "\n",
    "import numpy as np\n",
    "import xarray as xr\n",
    "\n",
    "from netCDF4 import Dataset\n",
    "\n",
    "sys.path.insert(0,\"/mnt/meom/workdir/henelle/Notebooks/git/xscale\")\n",
    "import xscale\n",
    "import xscale.spectral.fft as xfft\n",
    "\n",
    "import cartopy.crs as ccrs\n",
    "import cartopy.feature as cfeature\n",
    "from cartopy.mpl.gridliner import LONGITUDE_FORMATTER, LATITUDE_FORMATTER\n",
    "\n",
    "import numpy.ma as ma\n",
    "\n",
    "import matplotlib.cm as mplcm\n",
    "import matplotlib.colors as colors\n",
    "from mpl_toolkits.axes_grid1 import make_axes_locatable\n",
    "\n",
    "seq_cmap = mplcm.Blues\n",
    "div_cmap = mplcm.seismic\n",
    "\n",
    "import matplotlib.pyplot as plt\n",
    "import matplotlib as mpl\n",
    "from datetime import date, datetime\n",
    "from xhistogram.xarray import histogram\n",
    "\n",
    "import pandas as pd\n",
    "\n",
    "import seaborn as sns\n",
    "sns.set(color_codes=True)\n",
    "\n",
    "%matplotlib inline"
   ]
  },
  {
   "cell_type": "code",
   "execution_count": 2,
   "metadata": {},
   "outputs": [],
   "source": [
    "## Dataset\n",
    "\n",
    "dirfilt_00 = \"/mnt/meom/workdir/henelle/eNATL60/eNATL60-BLB002-S/1h/ACO/\"\n",
    "dirfilt_T0 = \"/mnt/meom/workdir/henelle/eNATL60/eNATL60-BLBT02-S/1h/ACO/\""
   ]
  },
  {
   "cell_type": "code",
   "execution_count": 3,
   "metadata": {},
   "outputs": [],
   "source": [
    "## All files, JAS\n",
    "\n",
    "tfile_JAS_strain00 = dirfilt_00 + 'eNATL60ACO-BLB002_y2009*.1h_strain10m.nc'\n",
    "tfile_JAS_strainT0 = dirfilt_T0 + 'eNATL60ACO-BLBT02_y2009*.1h_strain10m.nc'\n",
    "tfile_JAS_curl00   = dirfilt_00 + 'eNATL60ACO-BLB002_y2009*.1h_curl10m.nc'\n",
    "tfile_JAS_curlT0   = dirfilt_T0 + 'eNATL60ACO-BLBT02_y2009*.1h_curl10m.nc'"
   ]
  },
  {
   "cell_type": "code",
   "execution_count": 4,
   "metadata": {},
   "outputs": [],
   "source": [
    "ds_JAS_strain00 = xr.merge([xr.open_mfdataset(tfile_JAS_strain00,combine='by_coords')])\n",
    "ds_JAS_strainT0 = xr.merge([xr.open_mfdataset(tfile_JAS_strainT0,combine='by_coords')])\n",
    "ds_JAS_curl00   = xr.merge([xr.open_mfdataset(tfile_JAS_curl00,  combine='by_coords')])\n",
    "ds_JAS_curlT0   = xr.merge([xr.open_mfdataset(tfile_JAS_curlT0,  combine='by_coords')])\n",
    "#ds_JAS_strain00"
   ]
  },
  {
   "cell_type": "code",
   "execution_count": 5,
   "metadata": {},
   "outputs": [],
   "source": [
    "navlon = ds_JAS_strain00.nav_lon[0,:,:]\n",
    "navlat = ds_JAS_strain00.nav_lat[0,:,:]"
   ]
  },
  {
   "cell_type": "code",
   "execution_count": 6,
   "metadata": {},
   "outputs": [
    {
     "name": "stdout",
     "output_type": "stream",
     "text": [
      "(1191, 781)\n",
      "(1191, 781)\n"
     ]
    }
   ],
   "source": [
    "print(navlon.shape)\n",
    "print(navlat.shape)"
   ]
  },
  {
   "cell_type": "markdown",
   "metadata": {},
   "source": [
    "## Selecting box\n",
    "\n",
    "box    = (-31.5,-27,30.6,36)\n",
    "domain = (box[0] < navlon)*(navlon < box[1])*(box[2] < navlat)*(navlat < box[3])\n",
    "where  = np.where(domain)\n",
    "\n",
    "lats = navlat[where]\n",
    "lons = navlon[where]\n",
    "print(len(lats))\n",
    "print(len(lons))"
   ]
  },
  {
   "cell_type": "markdown",
   "metadata": {},
   "source": [
    "ind  = np.unravel_index(np.argmin(lats, axis=None), lats.shape)\n",
    "jmin = where[0][ind[0]]\n",
    "ind  = np.unravel_index(np.argmax(lats, axis=None), lats.shape)\n",
    "jmax = where[0][ind[0]]\n",
    "ind  = np.unravel_index(np.argmin(lons, axis=None), lons.shape)\n",
    "imin = where[1][ind[0]]\n",
    "ind  = np.unravel_index(np.argmax(lons, axis=None), lons.shape)\n",
    "imax = where[1][ind[0]]"
   ]
  },
  {
   "cell_type": "markdown",
   "metadata": {},
   "source": [
    "print('jmin = '+str(jmin)+'; jmax = '+str(jmax))\n",
    "print('imin = '+str(imin)+'; imax = '+str(imax))"
   ]
  },
  {
   "cell_type": "code",
   "execution_count": 7,
   "metadata": {},
   "outputs": [],
   "source": [
    "sbins = np.arange(0.0,0.5, 0.025)\n",
    "cbins = np.arange(-0.5,0.5, 0.025)"
   ]
  },
  {
   "cell_type": "code",
   "execution_count": 8,
   "metadata": {},
   "outputs": [
    {
     "name": "stdout",
     "output_type": "stream",
     "text": [
      "Current Time, before histograms = 11:58:30\n"
     ]
    }
   ],
   "source": [
    "now_hist = datetime.now()\n",
    "current_time_hist = now_hist.strftime(\"%H:%M:%S\")\n",
    "print(\"Current Time, before histograms =\", current_time_hist)"
   ]
  },
  {
   "cell_type": "code",
   "execution_count": 9,
   "metadata": {},
   "outputs": [],
   "source": [
    "hist_JAS_strain00 = histogram(ds_JAS_strain00.sostrainoverf,bins=[sbins])\n",
    "hist_JAS_strainT0 = histogram(ds_JAS_strainT0.sostrainoverf,bins=[sbins])\n",
    "hist_JAS_curl00   = histogram(ds_JAS_curl00.socurloverf,bins=[cbins])\n",
    "hist_JAS_curlT0   = histogram(ds_JAS_curlT0.socurloverf,bins=[cbins])"
   ]
  },
  {
   "cell_type": "code",
   "execution_count": 10,
   "metadata": {},
   "outputs": [
    {
     "name": "stdout",
     "output_type": "stream",
     "text": [
      "Current Time, before plotting = 11:58:30\n"
     ]
    }
   ],
   "source": [
    "now_start_plot = datetime.now()\n",
    "current_time_start_plot = now_start_plot.strftime(\"%H:%M:%S\")\n",
    "print(\"Current Time, before plotting =\", current_time_start_plot)"
   ]
  },
  {
   "cell_type": "code",
   "execution_count": 13,
   "metadata": {},
   "outputs": [
    {
     "data": {
      "text/plain": [
       "Text(0.5, 1.2, 'JAS')"
      ]
     },
     "execution_count": 13,
     "metadata": {},
     "output_type": "execute_result"
    },
    {
     "data": {
      "image/png": "[encoded data removed]",
      "text/plain": [
       "<Figure size 432x288 with 2 Axes>"
      ]
     },
     "metadata": {
      "needs_background": "light"
     },
     "output_type": "display_data"
    }
   ],
   "source": [
    "fig, axes = plt.subplots(ncols=2)\n",
    "\n",
    "hist_JAS_curl00.plot(ax=axes[0],label='no tide')\n",
    "hist_JAS_curlT0.plot(ax=axes[0],label='tide')\n",
    "axes[0].set_xlabel('24h filtered curl/f')\n",
    "axes[0].set_ylabel('')\n",
    "\n",
    "\n",
    "hist_JAS_strain00.plot(ax=axes[1],label='notide')\n",
    "hist_JAS_strainT0.plot(ax=axes[1],label='tide')\n",
    "axes[1].set_xlabel('24h filtered strain/f')\n",
    "axes[1].set_ylabel('')\n",
    "\n",
    "\n",
    "plt.tight_layout()\n",
    "plt.draw()\n",
    "plt.legend()\n",
    "plt.suptitle('JAS',y=1.1)"
   ]
  },
  {
   "cell_type": "code",
   "execution_count": 12,
   "metadata": {},
   "outputs": [
    {
     "name": "stdout",
     "output_type": "stream",
     "text": [
      "Current Time, after plotting = 12:02:34\n"
     ]
    }
   ],
   "source": [
    "now_end_plot = datetime.now()\n",
    "current_time_end_plot = now_end_plot.strftime(\"%H:%M:%S\")\n",
    "print(\"Current Time, after plotting =\", current_time_end_plot)"
   ]
  },
  {
   "cell_type": "code",
   "execution_count": null,
   "metadata": {},
   "outputs": [],
   "source": []
  },
  {
   "cell_type": "code",
   "execution_count": null,
   "metadata": {},
   "outputs": [],
   "source": []
  }
 ],
 "metadata": {
  "kernelspec": {
   "display_name": "Python 3",
   "language": "python",
   "name": "python3"
  },
  "language_info": {
   "codemirror_mode": {
    "name": "ipython",
    "version": 3
   },
   "file_extension": ".py",
   "mimetype": "text/x-python",
   "name": "python",
   "nbconvert_exporter": "python",
   "pygments_lexer": "ipython3",
   "version": "3.8.1"
  }
 },
 "nbformat": 4,
 "nbformat_minor": 4
}
