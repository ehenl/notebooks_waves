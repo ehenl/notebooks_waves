{
 "cells": [
  {
   "cell_type": "code",
   "execution_count": 1,
   "metadata": {},
   "outputs": [],
   "source": [
    "## Path for modules\n",
    "\n",
    "import sys\n",
    "\n",
    "import numpy as np\n",
    "import xarray as xr\n",
    "\n",
    "from netCDF4 import Dataset\n",
    "\n",
    "sys.path.insert(0,\"/mnt/meom/workdir/henelle/Notebooks/git/xscale\")\n",
    "import xscale\n",
    "import xscale.spectral.fft as xfft\n",
    "\n",
    "import cartopy.crs as ccrs\n",
    "import cartopy.feature as cfeature\n",
    "from cartopy.mpl.gridliner import LONGITUDE_FORMATTER, LATITUDE_FORMATTER\n",
    "\n",
    "import numpy.ma as ma\n",
    "\n",
    "import matplotlib.cm as mplcm\n",
    "import matplotlib.colors as colors\n",
    "from mpl_toolkits.axes_grid1 import make_axes_locatable\n",
    "\n",
    "seq_cmap = mplcm.Blues\n",
    "div_cmap = mplcm.seismic\n",
    "\n",
    "import matplotlib.pyplot as plt\n",
    "import matplotlib as mpl\n",
    "from datetime import date, datetime\n",
    "\n",
    "import pandas as pd\n",
    "\n",
    "import seaborn as sns\n",
    "sns.set(color_codes=True)\n",
    "\n",
    "%matplotlib inline"
   ]
  },
  {
   "cell_type": "code",
   "execution_count": 2,
   "metadata": {},
   "outputs": [],
   "source": [
    "## Dataset\n",
    "\n",
    "dirfilt_00 = \"/mnt/meom/workdir/henelle/eNATL60/eNATL60-BLB002-S/1h/ACO/\"\n",
    "dirfilt_T0 = \"/mnt/meom/workdir/henelle/eNATL60/eNATL60-BLBT02-S/1h/ACO/\""
   ]
  },
  {
   "cell_type": "code",
   "execution_count": 3,
   "metadata": {},
   "outputs": [],
   "source": [
    "## All files, both seasons\n",
    "\n",
    "#tfile_strain00 = dirfilt_00 + 'eNATL60ACO-BLB002_*.1h_strain10m.nc'\n",
    "#tfile_strainT0 = dirfilt_T0 + 'eNATL60ACO-BLBT02_*.1h_strain10m.nc'\n",
    "#tfile_curl00   = dirfilt_00 + 'eNATL60ACO-BLB002_*.1h_curl10m.nc'\n",
    "#tfile_curlT0   = dirfilt_T0 + 'eNATL60ACO-BLBT02_*.1h_curl10m.nc'"
   ]
  },
  {
   "cell_type": "code",
   "execution_count": 4,
   "metadata": {},
   "outputs": [],
   "source": [
    "## All files, JAS\n",
    "\n",
    "tfile_JAS_strain00 = dirfilt_00 + 'eNATL60ACO-BLB002_y2009*.1h_strain10m.nc'\n",
    "tfile_JAS_strainT0 = dirfilt_T0 + 'eNATL60ACO-BLBT02_y2009*.1h_strain10m.nc'\n",
    "tfile_JAS_curl00   = dirfilt_00 + 'eNATL60ACO-BLB002_y2009*.1h_curl10m.nc'\n",
    "tfile_JAS_curlT0   = dirfilt_T0 + 'eNATL60ACO-BLBT02_y2009*.1h_curl10m.nc'"
   ]
  },
  {
   "cell_type": "code",
   "execution_count": 5,
   "metadata": {},
   "outputs": [],
   "source": [
    "## All files, JFM\n",
    "\n",
    "#tfile_JFM_strain00 = dirfilt_00 + 'eNATL60ACO-BLB002_y2010*.1h_strain10m.nc'\n",
    "#tfile_JFM_strainT0 = dirfilt_T0 + 'eNATL60ACO-BLBT02_y2010*.1h_strain10m.nc'\n",
    "#tfile_JFM_curl00   = dirfilt_00 + 'eNATL60ACO-BLB002_y2010*.1h_curl10m.nc'\n",
    "#tfile_JFM_curlT0   = dirfilt_T0 + 'eNATL60ACO-BLBT02_y2010*.1h_curl10m.nc'"
   ]
  },
  {
   "cell_type": "code",
   "execution_count": 6,
   "metadata": {},
   "outputs": [],
   "source": [
    "with xr.open_dataset(dirfilt_00 + 'eNATL60ACO-BLB002_y2009m07d01.1h_strain10m.nc') as strain_JAS_00:\n",
    "        \n",
    "    navlat   = strain_JAS_00['nav_lat'].values\n",
    "    navlon   = strain_JAS_00['nav_lon'].values\n",
    "    #time_JAS = strain_JAS_00['time_counter'].values"
   ]
  },
  {
   "cell_type": "code",
   "execution_count": 7,
   "metadata": {},
   "outputs": [],
   "source": [
    "#with xr.open_dataset(dirfilt_00+'eNATL60ACO-BLB002_y2010m01d01.1h_strain10m.nc') as strain_JFM_00:\n",
    "\n",
    "#    time_JFM = strain_JFM_00['time_counter'].values"
   ]
  },
  {
   "cell_type": "code",
   "execution_count": 8,
   "metadata": {},
   "outputs": [],
   "source": [
    "#navlon = xr.DataArray(navlon)\n",
    "#navlat = xr.DataArray(navlat)"
   ]
  },
  {
   "cell_type": "code",
   "execution_count": 9,
   "metadata": {},
   "outputs": [],
   "source": [
    "## Selecting box\n",
    "\n",
    "box    = (-31.5,-27,30.6,36)\n",
    "domain = (box[0] < navlon)*(navlon < box[1])*(box[2] < navlat)*(navlat < box[3])\n",
    "where  = np.where(domain)\n",
    "\n",
    "lats = navlat[where]\n",
    "lons = navlon[where]\n",
    "\n",
    "\n",
    "ind  = np.unravel_index(np.argmin(lats, axis=None), lats.shape)\n",
    "jmin = where[0][ind[0]]\n",
    "ind  = np.unravel_index(np.argmax(lats, axis=None), lats.shape)\n",
    "jmax = where[0][ind[0]]\n",
    "ind  = np.unravel_index(np.argmin(lons, axis=None), lons.shape)\n",
    "imin = where[1][ind[0]]\n",
    "ind  = np.unravel_index(np.argmax(lons, axis=None), lons.shape)\n",
    "imax = where[1][ind[0]]"
   ]
  },
  {
   "cell_type": "code",
   "execution_count": 10,
   "metadata": {},
   "outputs": [
    {
     "name": "stdout",
     "output_type": "stream",
     "text": [
      "jmin = 499; jmax = 882\n",
      "imin = 354; imax = 623\n"
     ]
    }
   ],
   "source": [
    "print('jmin = '+str(jmin)+'; jmax = '+str(jmax))\n",
    "print('imin = '+str(imin)+'; imax = '+str(imax))"
   ]
  },
  {
   "cell_type": "code",
   "execution_count": 11,
   "metadata": {},
   "outputs": [],
   "source": [
    "def fct_open_datasets(path,var,jmin,jmax,imin,imax):\n",
    "    \n",
    "    with xr.open_mfdataset(path,combine='by_coords') as file:\n",
    "        \n",
    "        varvalues = file[var][:,jmin:jmax+1,imin:imax+1]\n",
    "        time      = file['time_counter']\n",
    "        \n",
    "    return varvalues,time"
   ]
  },
  {
   "cell_type": "markdown",
   "metadata": {},
   "source": [
    "strain_00,_,_,_            = fct_open_dataset(tfile_strain00,'sostrainoverf')\n",
    "strain_T0,_,_,_            = fct_open_dataset(tfile_strainT0,'sostrainoverf')\n",
    "curl_00,_,_,_              = fct_open_dataset(tfile_curl00,  'socurloverf')\n",
    "curl_T0,navlat,navlon,time = fct_open_dataset(tfile_curlT0,  'socurloverf')"
   ]
  },
  {
   "cell_type": "code",
   "execution_count": 12,
   "metadata": {},
   "outputs": [],
   "source": [
    "strain_JAS_00 = fct_open_datasets(tfile_JAS_strain00,'sostrainoverf',jmin,jmax,imin,imax)\n",
    "strain_JAS_T0 = fct_open_datasets(tfile_JAS_strainT0,'sostrainoverf',jmin,jmax,imin,imax)\n",
    "curl_JAS_00   = fct_open_datasets(tfile_JAS_curl00,  'socurloverf',jmin,jmax,imin,imax)\n",
    "curl_JAS_T0   = fct_open_datasets(tfile_JAS_curlT0,  'socurloverf',jmin,jmax,imin,imax)"
   ]
  },
  {
   "cell_type": "code",
   "execution_count": 19,
   "metadata": {},
   "outputs": [
    {
     "ename": "AttributeError",
     "evalue": "'tuple' object has no attribute 'pop'",
     "output_type": "error",
     "traceback": [
      "\u001b[0;31m---------------------------------------------------------------------------\u001b[0m",
      "\u001b[0;31mAttributeError\u001b[0m                            Traceback (most recent call last)",
      "\u001b[0;32m<ipython-input-19-d159fc32349a>\u001b[0m in \u001b[0;36m<module>\u001b[0;34m\u001b[0m\n\u001b[0;32m----> 1\u001b[0;31m \u001b[0mstrain_JAS_00\u001b[0m\u001b[0;34m.\u001b[0m\u001b[0mpop\u001b[0m\u001b[0;34m(\u001b[0m\u001b[0;34m)\u001b[0m\u001b[0;34m\u001b[0m\u001b[0;34m\u001b[0m\u001b[0m\n\u001b[0m",
      "\u001b[0;31mAttributeError\u001b[0m: 'tuple' object has no attribute 'pop'"
     ]
    }
   ],
   "source": [
    "#strain_JAS_00.pop()\n"
   ]
  },
  {
   "cell_type": "code",
   "execution_count": 14,
   "metadata": {},
   "outputs": [],
   "source": [
    "#strain_JAS_00 = xr.DataArray(strain_JAS_00)\n",
    "#strain_JAS_T0 = xr.DataArray(strain_JAS_T0)\n",
    "#curl_JAS_00   = xr.DataArray(curl_JAS_00)\n",
    "#curl_JAS_T0   = xr.DataArray(curl_JAS_T0)"
   ]
  },
  {
   "cell_type": "markdown",
   "metadata": {},
   "source": [
    "strain_JFM_00,_,_,_            = fct_open_dataset(tfile_JFM_strain00,'sostrainoverf')\n",
    "strain_JFM_T0,_,_,_            = fct_open_dataset(tfile_JFM_strainT0,'sostrainoverf')\n",
    "curl_JFM_00,_,_,_              = fct_open_dataset(tfile_JFM_curl00,  'socurloverf')\n",
    "curl_JFM_T0,_,_,_              = fct_open_dataset(tfile_JFM_curlT0,  'socurloverf')"
   ]
  },
  {
   "cell_type": "code",
   "execution_count": 15,
   "metadata": {},
   "outputs": [
    {
     "ename": "AttributeError",
     "evalue": "'tuple' object has no attribute 'stack'",
     "output_type": "error",
     "traceback": [
      "\u001b[0;31m---------------------------------------------------------------------------\u001b[0m",
      "\u001b[0;31mAttributeError\u001b[0m                            Traceback (most recent call last)",
      "\u001b[0;32m<ipython-input-15-e409b5907ca3>\u001b[0m in \u001b[0;36m<module>\u001b[0;34m\u001b[0m\n\u001b[1;32m      1\u001b[0m \u001b[0;31m## Selecting data in the box\u001b[0m\u001b[0;34m\u001b[0m\u001b[0;34m\u001b[0m\u001b[0;34m\u001b[0m\u001b[0m\n\u001b[1;32m      2\u001b[0m \u001b[0;34m\u001b[0m\u001b[0m\n\u001b[0;32m----> 3\u001b[0;31m \u001b[0mcurl_filt_box_T0\u001b[0m   \u001b[0;34m=\u001b[0m \u001b[0mnp\u001b[0m\u001b[0;34m.\u001b[0m\u001b[0mmean\u001b[0m\u001b[0;34m(\u001b[0m\u001b[0mcurl_JAS_T0\u001b[0m\u001b[0;34m.\u001b[0m\u001b[0mstack\u001b[0m\u001b[0;34m(\u001b[0m\u001b[0mz\u001b[0m\u001b[0;34m=\u001b[0m\u001b[0;34m(\u001b[0m\u001b[0;34m'x'\u001b[0m\u001b[0;34m,\u001b[0m \u001b[0;34m'y'\u001b[0m\u001b[0;34m)\u001b[0m\u001b[0;34m)\u001b[0m\u001b[0;34m,\u001b[0m\u001b[0maxis\u001b[0m\u001b[0;34m=\u001b[0m\u001b[0;36m0\u001b[0m\u001b[0;34m)\u001b[0m\u001b[0;34m\u001b[0m\u001b[0;34m\u001b[0m\u001b[0m\n\u001b[0m\u001b[1;32m      4\u001b[0m \u001b[0mcurl_filt_box_00\u001b[0m   \u001b[0;34m=\u001b[0m \u001b[0mnp\u001b[0m\u001b[0;34m.\u001b[0m\u001b[0mmean\u001b[0m\u001b[0;34m(\u001b[0m\u001b[0mcurl_JAS_00\u001b[0m\u001b[0;34m.\u001b[0m\u001b[0mstack\u001b[0m\u001b[0;34m(\u001b[0m\u001b[0mz\u001b[0m\u001b[0;34m=\u001b[0m\u001b[0;34m(\u001b[0m\u001b[0;34m'x'\u001b[0m\u001b[0;34m,\u001b[0m \u001b[0;34m'y'\u001b[0m\u001b[0;34m)\u001b[0m\u001b[0;34m)\u001b[0m\u001b[0;34m,\u001b[0m\u001b[0maxis\u001b[0m\u001b[0;34m=\u001b[0m\u001b[0;36m0\u001b[0m\u001b[0;34m)\u001b[0m\u001b[0;34m\u001b[0m\u001b[0;34m\u001b[0m\u001b[0m\n\u001b[1;32m      5\u001b[0m \u001b[0mstrain_filt_box_T0\u001b[0m \u001b[0;34m=\u001b[0m \u001b[0mnp\u001b[0m\u001b[0;34m.\u001b[0m\u001b[0mmean\u001b[0m\u001b[0;34m(\u001b[0m\u001b[0mstrain_JAS_T0\u001b[0m\u001b[0;34m.\u001b[0m\u001b[0mstack\u001b[0m\u001b[0;34m(\u001b[0m\u001b[0mz\u001b[0m\u001b[0;34m=\u001b[0m\u001b[0;34m(\u001b[0m\u001b[0;34m'x'\u001b[0m\u001b[0;34m,\u001b[0m \u001b[0;34m'y'\u001b[0m\u001b[0;34m)\u001b[0m\u001b[0;34m)\u001b[0m\u001b[0;34m,\u001b[0m\u001b[0maxis\u001b[0m\u001b[0;34m=\u001b[0m\u001b[0;36m0\u001b[0m\u001b[0;34m)\u001b[0m\u001b[0;34m\u001b[0m\u001b[0;34m\u001b[0m\u001b[0m\n",
      "\u001b[0;31mAttributeError\u001b[0m: 'tuple' object has no attribute 'stack'"
     ]
    }
   ],
   "source": [
    "## Selecting data in the box\n",
    "\n",
    "curl_filt_box_T0   = np.mean(curl_JAS_T0.stack(z=('x', 'y')),axis=0)\n",
    "curl_filt_box_00   = np.mean(curl_JAS_00.stack(z=('x', 'y')),axis=0)\n",
    "strain_filt_box_T0 = np.mean(strain_JAS_T0.stack(z=('x', 'y')),axis=0)\n",
    "strain_filt_box_00 = np.mean(strain_JAS_00.stack(z=('x', 'y')),axis=0)"
   ]
  },
  {
   "cell_type": "code",
   "execution_count": null,
   "metadata": {},
   "outputs": [],
   "source": [
    "def hist(varT0,var00,var_name,season,lonmin,lonmax,latmin,latmax):\n",
    "    \n",
    "    fig = plt.figure(figsize=(14,8))\n",
    "    axes1 = fig.add_subplot(1,1,1)\n",
    "\n",
    "    axes1.hist(varT0,100,alpha=0.5,range=(-1,1),color='r',label='tide')\n",
    "    axes1.hist(var00,100,alpha=0.5,range=(-1,1),color='b',label='no tide')\n",
    "\n",
    "    plt.xlim(-0.5,0.5)\n",
    "    plt.tick_params(labelsize=14)\n",
    "    plt.ticklabel_format(style='sci',axis='x',scilimits=(0,0))\n",
    "    plt.xlabel('24h filtered '+var_name+' @ 10 m',size=14)\n",
    "    plt.title(season,size=16)\n",
    "    plt.text(-0.48,7000,'Region:\\n \\n '+str(lonmin)+'$^o$W to '+str(lonmax)+'$^o$W \\n '\n",
    "             +str(latmin)+'$^o$N to '+str(latmax)+''$^o$N',\n",
    "             size=16,bbox=dict(boxstyle=\"square\",\n",
    "                       ec=(0.6, 0.8, 0.8),\n",
    "                       fc=(0.6, 0.8, 0.8),\n",
    "                       ))\n",
    "    plt.legend(fontsize=14,loc=2,shadow=True,edgecolor='dimgray')\n",
    "\n",
    "    #plt.savefig('./PDF/curl_JAS_(-31,-28,33,36).png')\n",
    "    "
   ]
  },
  {
   "cell_type": "code",
   "execution_count": null,
   "metadata": {},
   "outputs": [],
   "source": [
    "hist(curl_filt_box_T0,curl_filt_box_T0,'curl/f','July - August - September',-31.5,-27,30.6,36)"
   ]
  },
  {
   "cell_type": "markdown",
   "metadata": {},
   "source": [
    "## Histogram of PDF - curl\n",
    "\n",
    "fig = plt.figure(figsize=(14,8))\n",
    "axes1 = fig.add_subplot(1,1,1)\n",
    "\n",
    "axes1.hist(curl_filt_box_T0,100,alpha=0.5,range=(-1,1),color='r',label='tide')\n",
    "axes1.hist(curl_filt_box_00,100,alpha=0.5,range=(-1,1),color='b',label='no tide')\n",
    "\n",
    "plt.xlim(-0.5,0.5)\n",
    "plt.tick_params(labelsize=14)\n",
    "plt.ticklabel_format(style='sci',axis='x',scilimits=(0,0))\n",
    "plt.xlabel('24h filtered curl/f @ 10 m',size=14)\n",
    "plt.title('July - August - September',size=16)\n",
    "plt.text(-0.48,7000,'Region:\\n \\n 31$^o$W to 28$^o$W \\n 33$^o$N to 36$^o$N',\n",
    "         size=16,bbox=dict(boxstyle=\"square\",\n",
    "                   ec=(0.6, 0.8, 0.8),\n",
    "                   fc=(0.6, 0.8, 0.8),\n",
    "                   ))\n",
    "plt.legend(fontsize=14,loc=2,shadow=True,edgecolor='dimgray')\n",
    "\n",
    "#plt.savefig('./PDF/curl_JAS_(-31,-28,33,36).png')"
   ]
  },
  {
   "cell_type": "markdown",
   "metadata": {},
   "source": [
    "## Histogram of PDF - strain\n",
    "\n",
    "fig = plt.figure(figsize=(14,8))\n",
    "axes1 = fig.add_subplot(1,1,1)\n",
    "\n",
    "axes1.hist(strain_filt_box_T0,100,alpha=0.5,range=(0,1),color='r',label='tide')\n",
    "axes1.hist(strain_filt_box_00,100,alpha=0.5,range=(0,1),color='b',label='no tide')\n",
    "\n",
    "plt.tick_params(labelsize=14)\n",
    "plt.ticklabel_format(style='sci',axis='x',scilimits=(0,0))\n",
    "plt.xlabel('24h filtered strain/f @ 10 m',size=14)\n",
    "plt.title('July - August - September',size=16)\n",
    "plt.text(0.865,8000,'Region:\\n \\n 31$^o$W to 28$^o$W \\n 33$^o$N to 36$^o$N',\n",
    "         size=16,bbox=dict(boxstyle=\"square\",\n",
    "                   ec=(0.6, 0.8, 0.8),\n",
    "                   fc=(0.6, 0.8, 0.8),\n",
    "                   ))\n",
    "\n",
    "plt.legend(fontsize=14,shadow=True,edgecolor='dimgray')\n",
    "\n",
    "#plt.savefig('./PDF/strain_JAS_(-31,-28,33,36).png')"
   ]
  }
 ],
 "metadata": {
  "kernelspec": {
   "display_name": "Python 3",
   "language": "python",
   "name": "python3"
  },
  "language_info": {
   "codemirror_mode": {
    "name": "ipython",
    "version": 3
   },
   "file_extension": ".py",
   "mimetype": "text/x-python",
   "name": "python",
   "nbconvert_exporter": "python",
   "pygments_lexer": "ipython3",
   "version": "3.8.1"
  }
 },
 "nbformat": 4,
 "nbformat_minor": 4
}
