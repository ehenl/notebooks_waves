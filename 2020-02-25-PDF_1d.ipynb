{
 "cells": [
  {
   "cell_type": "code",
   "execution_count": 1,
   "metadata": {},
   "outputs": [],
   "source": [
    "## Path for modules\n",
    "\n",
    "import sys\n",
    "\n",
    "import numpy as np\n",
    "import xarray as xr\n",
    "\n",
    "from netCDF4 import Dataset\n",
    "\n",
    "sys.path.insert(0,\"/mnt/meom/workdir/henelle/Notebooks/git/xscale\")\n",
    "import xscale\n",
    "import xscale.spectral.fft as xfft\n",
    "\n",
    "import cartopy.crs as ccrs\n",
    "import cartopy.feature as cfeature\n",
    "from cartopy.mpl.gridliner import LONGITUDE_FORMATTER, LATITUDE_FORMATTER\n",
    "\n",
    "import numpy.ma as ma\n",
    "\n",
    "import matplotlib.cm as mplcm\n",
    "import matplotlib.colors as colors\n",
    "from mpl_toolkits.axes_grid1 import make_axes_locatable\n",
    "\n",
    "seq_cmap = mplcm.Blues\n",
    "div_cmap = mplcm.seismic\n",
    "\n",
    "import matplotlib.pyplot as plt\n",
    "import matplotlib as mpl\n",
    "from datetime import date, datetime\n",
    "\n",
    "import pandas as pd\n",
    "\n",
    "import seaborn as sns\n",
    "sns.set(color_codes=True)\n",
    "\n",
    "%matplotlib inline"
   ]
  },
  {
   "cell_type": "code",
   "execution_count": 2,
   "metadata": {},
   "outputs": [],
   "source": [
    "## Dataset\n",
    "\n",
    "dirfilt_00 = \"/mnt/meom/workdir/henelle/eNATL60/eNATL60-BLB002-S/1h/ACO/\"\n",
    "dirfilt_T0 = \"/mnt/meom/workdir/henelle/eNATL60/eNATL60-BLBT02-S/1h/ACO/\""
   ]
  },
  {
   "cell_type": "code",
   "execution_count": 3,
   "metadata": {},
   "outputs": [],
   "source": [
    "## JAS files\n",
    "\n",
    "tfileJAS_strain00 = dirfilt_00 + 'eNATL60ACO-BLB002_y2009m07d24.1h_strain10m.nc'\n",
    "tfileJAS_strainT0 = dirfilt_T0 + 'eNATL60ACO-BLBT02_y2009m07d24.1h_strain10m.nc'\n",
    "tfileJAS_curl00   = dirfilt_00 + 'eNATL60ACO-BLB002_y2009m07d24.1h_curl10m.nc'\n",
    "tfileJAS_curlT0   = dirfilt_T0 + 'eNATL60ACO-BLBT02_y2009m07d24.1h_curl10m.nc'"
   ]
  },
  {
   "cell_type": "code",
   "execution_count": 4,
   "metadata": {},
   "outputs": [],
   "source": [
    "## JFM files\n",
    "\n",
    "tfileJFM_strain00 = dirfilt_00 + 'eNATL60ACO-BLB002_y2010m01d24.1h_strain10m.nc'\n",
    "tfileJFM_strainT0 = dirfilt_T0 + 'eNATL60ACO-BLBT02_y2010m01d24.1h_strain10m.nc'\n",
    "tfileJFM_curl00   = dirfilt_00 + 'eNATL60ACO-BLB002_y2010m01d24.1h_curl10m.nc'\n",
    "tfileJFM_curlT0   = dirfilt_T0 + 'eNATL60ACO-BLBT02_y2010m01d24.1h_curl10m.nc'"
   ]
  },
  {
   "cell_type": "code",
   "execution_count": 5,
   "metadata": {},
   "outputs": [],
   "source": [
    "# Curl files\n",
    "\n",
    "fcurl_JAS_00 = xr.open_dataset(tfileJAS_curl00)\n",
    "fcurl_JAS_T0 = xr.open_dataset(tfileJAS_curlT0)\n",
    "\n",
    "fcurl_JFM_00 = xr.open_dataset(tfileJFM_curl00)\n",
    "fcurl_JFM_T0 = xr.open_dataset(tfileJFM_curlT0)"
   ]
  },
  {
   "cell_type": "code",
   "execution_count": 6,
   "metadata": {},
   "outputs": [],
   "source": [
    "# Strain files\n",
    "\n",
    "fstrain_JAS_00 = xr.open_dataset(tfileJAS_strain00)\n",
    "fstrain_JAS_T0 = xr.open_dataset(tfileJAS_strainT0)\n",
    "\n",
    "fstrain_JFM_00 = xr.open_dataset(tfileJFM_strain00)\n",
    "fstrain_JFM_T0 = xr.open_dataset(tfileJFM_strainT0)"
   ]
  },
  {
   "cell_type": "code",
   "execution_count": 7,
   "metadata": {},
   "outputs": [],
   "source": [
    "navlat = fcurl_JAS_00['nav_lat']\n",
    "navlon = fcurl_JAS_00['nav_lon']"
   ]
  },
  {
   "cell_type": "code",
   "execution_count": 8,
   "metadata": {},
   "outputs": [],
   "source": [
    "## Curl\n",
    "\n",
    "curl_JAS_00 = fcurl_JAS_00['socurloverf']\n",
    "curl_JAS_T0 = fcurl_JAS_T0['socurloverf']\n",
    "\n",
    "curl_JFM_00 = fcurl_JFM_00['socurloverf']\n",
    "curl_JFM_T0 = fcurl_JFM_T0['socurloverf']"
   ]
  },
  {
   "cell_type": "code",
   "execution_count": 9,
   "metadata": {},
   "outputs": [],
   "source": [
    "## Strain\n",
    "\n",
    "strain_JAS_00 = fstrain_JAS_00['sostrainoverf']\n",
    "strain_JAS_T0 = fstrain_JAS_T0['sostrainoverf']\n",
    "\n",
    "strain_JFM_00 = fstrain_JFM_00['sostrainoverf']\n",
    "strain_JFM_T0 = fstrain_JFM_T0['sostrainoverf']"
   ]
  },
  {
   "cell_type": "code",
   "execution_count": 16,
   "metadata": {},
   "outputs": [
    {
     "data": {
      "text/html": [
       "<pre>&lt;xarray.DataArray &#x27;socurloverf&#x27; (time_counter: 24, y: 1191, x: 781)&gt;\n",
       "[22324104 values with dtype=float32]\n",
       "Coordinates:\n",
       "  * time_counter  (time_counter) datetime64[ns] 2009-07-24T00:30:00 ... 2009-07-24T23:30:00\n",
       "Dimensions without coordinates: y, x\n",
       "Attributes:\n",
       "    units:             -\n",
       "    valid_min:         -1000.0\n",
       "    valid_max:         1000.0\n",
       "    long_name:         Relative_Vorticity (curl)\n",
       "    short_name:        socurl\n",
       "    iweight:           1\n",
       "    online_operation:  N/A\n",
       "    axis:              TYX\n",
       "    savelog10:         0.0</pre>"
      ],
      "text/plain": [
       "<xarray.DataArray 'socurloverf' (time_counter: 24, y: 1191, x: 781)>\n",
       "[22324104 values with dtype=float32]\n",
       "Coordinates:\n",
       "  * time_counter  (time_counter) datetime64[ns] 2009-07-24T00:30:00 ... 2009-07-24T23:30:00\n",
       "Dimensions without coordinates: y, x\n",
       "Attributes:\n",
       "    units:             -\n",
       "    valid_min:         -1000.0\n",
       "    valid_max:         1000.0\n",
       "    long_name:         Relative_Vorticity (curl)\n",
       "    short_name:        socurl\n",
       "    iweight:           1\n",
       "    online_operation:  N/A\n",
       "    axis:              TYX\n",
       "    savelog10:         0.0"
      ]
     },
     "execution_count": 16,
     "metadata": {},
     "output_type": "execute_result"
    }
   ],
   "source": [
    "curl_JAS_00"
   ]
  },
  {
   "cell_type": "code",
   "execution_count": 10,
   "metadata": {},
   "outputs": [],
   "source": [
    "## Selecting box\n",
    "\n",
    "box    = (-31,-28,33,36)\n",
    "#box = (-31.5,-27,30.6,36)\n",
    "domain = (box[0] < navlon)*(navlon < box[1])*(box[2] < navlat)*(navlat < box[3])\n",
    "where  = np.where(domain)\n",
    "\n",
    "\n",
    "lats = navlat[where]\n",
    "lons = navlon[where]\n",
    "\n",
    "ind  = np.unravel_index(np.argmin(lats, axis=None), lats.shape)\n",
    "jmin = where[0][ind[0]]\n",
    "ind  = np.unravel_index(np.argmax(lats, axis=None), lats.shape)\n",
    "jmax = where[0][ind[0]]\n",
    "ind  = np.unravel_index(np.argmin(lons, axis=None), lons.shape)\n",
    "imin = where[1][ind[1]]\n",
    "ind  = np.unravel_index(np.argmax(lons, axis=None), lons.shape)\n",
    "imax = where[1][ind[1]]"
   ]
  },
  {
   "cell_type": "code",
   "execution_count": 11,
   "metadata": {},
   "outputs": [
    {
     "name": "stdout",
     "output_type": "stream",
     "text": [
      "667\n",
      "882\n",
      "384\n",
      "563\n"
     ]
    }
   ],
   "source": [
    "print(jmin);print(jmax)\n",
    "print(imin);print(imax)"
   ]
  },
  {
   "cell_type": "code",
   "execution_count": 12,
   "metadata": {},
   "outputs": [],
   "source": [
    "## Selecting data in the box\n",
    "\n",
    "curl_filt_box_T0   = np.mean(curl_JAS_T0[:,jmin:jmax+1,imin:imax+1].stack(z=('x', 'y')),axis=0)\n",
    "curl_filt_box_00   = np.mean(curl_JAS_00[:,jmin:jmax+1,imin:imax+1].stack(z=('x', 'y')),axis=0)\n",
    "strain_filt_box_T0 = np.mean(strain_JAS_T0[:,jmin:jmax+1,imin:imax+1].stack(z=('x', 'y')),axis=0)\n",
    "strain_filt_box_00 = np.mean(strain_JAS_00[:,jmin:jmax+1,imin:imax+1].stack(z=('x', 'y')),axis=0)"
   ]
  },
  {
   "cell_type": "code",
   "execution_count": 13,
   "metadata": {},
   "outputs": [],
   "source": [
    "## Calculating weights\n",
    "\n",
    "weights_curl_filt_box_T0   = np.ones_like(curl_filt_box_T0)/float(len(curl_filt_box_T0))\n",
    "weights_curl_filt_box_00   = np.ones_like(curl_filt_box_00)/float(len(curl_filt_box_00))\n",
    "weights_strain_filt_box_T0 = np.ones_like(strain_filt_box_T0)/float(len(strain_filt_box_T0))\n",
    "weights_strain_filt_box_00 = np.ones_like(strain_filt_box_00)/float(len(strain_filt_box_00))"
   ]
  },
  {
   "cell_type": "code",
   "execution_count": 14,
   "metadata": {},
   "outputs": [
    {
     "data": {
      "text/plain": [
       "<matplotlib.legend.Legend at 0x7fd8f4f2e610>"
      ]
     },
     "execution_count": 14,
     "metadata": {},
     "output_type": "execute_result"
    },
    {
     "data": {
      "image/png": "[encoded data removed]",
      "text/plain": [
       "<Figure size 1008x576 with 1 Axes>"
      ]
     },
     "metadata": {
      "needs_background": "light"
     },
     "output_type": "display_data"
    }
   ],
   "source": [
    "## Histogram of PDF - curl\n",
    "\n",
    "fig = plt.figure(figsize=(14,8))\n",
    "axes1 = fig.add_subplot(1,1,1)\n",
    "\n",
    "axes1.hist(curl_filt_box_T0,100,alpha=0.5,range=(-1,1),color='r',weights=weights_curl_filt_box_T0,label='tide')\n",
    "axes1.hist(curl_filt_box_00,100,alpha=0.5,range=(-1,1),color='b',weights=weights_curl_filt_box_00,label='no tide')\n",
    "\n",
    "plt.xlim(-0.5,0.5)\n",
    "plt.tick_params(labelsize=14)\n",
    "plt.ticklabel_format(style='sci',axis='x',scilimits=(0,0))\n",
    "plt.xlabel('24h filtered curl/f @ 10 m',size=14)\n",
    "plt.legend(fontsize=14,loc=2,shadow=True,edgecolor='dimgray')"
   ]
  },
  {
   "cell_type": "code",
   "execution_count": 15,
   "metadata": {},
   "outputs": [
    {
     "data": {
      "text/plain": [
       "<matplotlib.legend.Legend at 0x7fd5f2321d60>"
      ]
     },
     "execution_count": 15,
     "metadata": {},
     "output_type": "execute_result"
    },
    {
     "data": {
      "image/png": "[encoded data removed]",
      "text/plain": [
       "<Figure size 1008x576 with 1 Axes>"
      ]
     },
     "metadata": {
      "needs_background": "light"
     },
     "output_type": "display_data"
    }
   ],
   "source": [
    "## Histogram of PDF - strain\n",
    "\n",
    "fig = plt.figure(figsize=(14,8))\n",
    "axes1 = fig.add_subplot(1,1,1)\n",
    "\n",
    "axes1.hist(strain_filt_box_T0,100,alpha=0.5,range=(0,1),color='r',weights=weights_strain_filt_box_T0,label='tide')\n",
    "axes1.hist(strain_filt_box_00,100,alpha=0.5,range=(0,1),color='b',weights=weights_strain_filt_box_00,label='no tide')\n",
    "\n",
    "plt.tick_params(labelsize=14)\n",
    "plt.ticklabel_format(style='sci',axis='x',scilimits=(0,0))\n",
    "plt.xlabel('24h filtered strain/f @ 10 m',size=14)\n",
    "plt.legend(fontsize=14,shadow=True,edgecolor='dimgray')"
   ]
  },
  {
   "cell_type": "code",
   "execution_count": null,
   "metadata": {},
   "outputs": [],
   "source": []
  }
 ],
 "metadata": {
  "kernelspec": {
   "display_name": "Python 3",
   "language": "python",
   "name": "python3"
  },
  "language_info": {
   "codemirror_mode": {
    "name": "ipython",
    "version": 3
   },
   "file_extension": ".py",
   "mimetype": "text/x-python",
   "name": "python",
   "nbconvert_exporter": "python",
   "pygments_lexer": "ipython3",
   "version": "3.8.1"
  }
 },
 "nbformat": 4,
 "nbformat_minor": 4
}
