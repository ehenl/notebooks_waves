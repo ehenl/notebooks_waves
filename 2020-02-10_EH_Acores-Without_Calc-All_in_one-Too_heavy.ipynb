{
 "cells": [
  {
   "cell_type": "code",
   "execution_count": 1,
   "metadata": {},
   "outputs": [],
   "source": [
    "## path for mdules\n",
    "\n",
    "import sys\n",
    "#sys.path.insert(0,\"/home/albert/lib/python\")\n",
    "\n",
    "import numpy as np\n",
    "import xarray as xr\n",
    "import glob\n",
    "\n",
    "from netCDF4 import Dataset\n",
    "\n",
    "sys.path.insert(0,\"/home/henelle/Notebooks/git/xscale\")\n",
    "import xscale\n",
    "import xscale.spectral.fft as xfft\n",
    "\n",
    "import cartopy.crs as ccrs\n",
    "import cartopy.feature as cfeature\n",
    "from cartopy.mpl.gridliner import LONGITUDE_FORMATTER, LATITUDE_FORMATTER\n",
    "\n",
    "import numpy.ma as ma\n",
    "\n",
    "import matplotlib.cm as mplcm\n",
    "import matplotlib.colors as colors\n",
    "from mpl_toolkits.axes_grid1 import make_axes_locatable\n",
    "\n",
    "seq_cmap = mplcm.Blues\n",
    "div_cmap = mplcm.seismic\n",
    "\n",
    "import matplotlib.pyplot as plt\n",
    "import matplotlib as mpl\n",
    "from datetime import date\n",
    "\n",
    "import seaborn as sns\n",
    "sns.set(color_codes=True)\n",
    "\n",
    "from matplotlib.animation import FuncAnimation\n",
    "from IPython.display import HTML\n",
    "from math import cos, pi \n",
    "\n",
    "%matplotlib inline"
   ]
  },
  {
   "cell_type": "code",
   "execution_count": 2,
   "metadata": {},
   "outputs": [],
   "source": [
    "## Dataset\n",
    "\n",
    "dirfilt=\"/home/henelle/Notebooks/Data/\""
   ]
  },
  {
   "cell_type": "code",
   "execution_count": 3,
   "metadata": {},
   "outputs": [],
   "source": [
    "## JFM & JAS files\n",
    "\n",
    "tfileJFM = dirfilt + 'ACO_JFM_filtered.nc'\n",
    "tfileJAS = dirfilt + 'ACO_JAS_filtered.nc'"
   ]
  },
  {
   "cell_type": "code",
   "execution_count": 4,
   "metadata": {},
   "outputs": [],
   "source": [
    "params = {'font.weight':    'normal',\n",
    "          'font.size':       int(14),\n",
    "          'figure.titlesize': 'large',\n",
    "          'legend.fontsize': int(12),\n",
    "          'xtick.labelsize': int(14),\n",
    "          'ytick.labelsize': int(14),\n",
    "          'axes.labelsize':  int(14)}\n",
    "mpl.rcParams.update(params)"
   ]
  },
  {
   "cell_type": "code",
   "execution_count": 5,
   "metadata": {},
   "outputs": [],
   "source": [
    "def plot_surf(sub,data,lon,lat,vmin,vmax,cmap,title):\n",
    "    \n",
    "    ax = plt.subplot(sub,projection=ccrs.PlateCarree(central_longitude=0))\n",
    "    ax.set_extent((-36, -26, 25, 40))\n",
    "    land = cfeature.GSHHSFeature(scale='intermediate',levels=[1],facecolor=cfeature.COLORS['land'])\n",
    "    \n",
    "    ax.add_feature(land)\n",
    "    gl = ax.gridlines(draw_labels=True, linestyle=':', color='black',\n",
    "                          alpha=0.5)\n",
    "    gl.xlabels_top = False\n",
    "    gl.ylabels_right = False\n",
    "    gl.xformatter = LONGITUDE_FORMATTER\n",
    "    gl.yformatter = LATITUDE_FORMATTER\n",
    "    ax.tick_params('both',labelsize=22)\n",
    "    \n",
    "    plt.pcolormesh(lon,lat,data,cmap=cmap,vmin=vmin,vmax=vmax )\n",
    "    plt.colorbar(orientation='horizontal',pad=0.1,extend='both')\n",
    "    plt.title(title,fontsize=18)\n",
    "    #ax.text(0.57, -0.08, date, transform=ax.transAxes)\n",
    "\n",
    "    ax.plot([-31, -28], [33, 33],color='black',linewidth=4)\n",
    "    ax.plot([-31, -28], [36, 36],color='black',linewidth=4)\n",
    "    ax.plot([-31, -31], [33, 36],color='black',linewidth=4)\n",
    "    ax.plot([-28, -28], [33, 36],color='black',linewidth=4)"
   ]
  },
  {
   "cell_type": "code",
   "execution_count": null,
   "metadata": {},
   "outputs": [],
   "source": []
  },
  {
   "cell_type": "code",
   "execution_count": 6,
   "metadata": {},
   "outputs": [],
   "source": [
    "fJFM = xr.open_dataset(tfileJFM)\n",
    "fJAS = xr.open_dataset(tfileJAS)"
   ]
  },
  {
   "cell_type": "code",
   "execution_count": 7,
   "metadata": {},
   "outputs": [],
   "source": [
    "navlat = fJFM['lat']\n",
    "navlon = fJFM['lon']"
   ]
  },
  {
   "cell_type": "code",
   "execution_count": 8,
   "metadata": {},
   "outputs": [],
   "source": [
    "## RV variables\n",
    "\n",
    "rvnotideJFM = fJFM['rv_notides_inst']\n",
    "rv_fromSSH_ave24h_JFM = fJFM['rv_fromSSH_ave24h']"
   ]
  },
  {
   "cell_type": "code",
   "execution_count": 9,
   "metadata": {},
   "outputs": [],
   "source": [
    "f = 1e-4"
   ]
  },
  {
   "cell_type": "code",
   "execution_count": 10,
   "metadata": {},
   "outputs": [],
   "source": [
    "rv_notide_over_f_JFM = rvnotideJFM/f\n",
    "rv_over_f_24h_JFM = rv_fromSSH_ave24h_JFM/f"
   ]
  },
  {
   "cell_type": "code",
   "execution_count": 11,
   "metadata": {},
   "outputs": [
    {
     "name": "stdout",
     "output_type": "stream",
     "text": [
      "(397, 261)\n"
     ]
    }
   ],
   "source": [
    "Mrv_fromSSH_ave24h_JFM = np.mean(rv_over_f_24h_JFM,axis=0)\n",
    "print(np.shape(Mrv_fromSSH_ave24h_JFM))"
   ]
  },
  {
   "cell_type": "markdown",
   "metadata": {},
   "source": [
    "fig = plt.figure(figsize=(14,7))\n",
    "\n",
    "ax1 = fig.add_subplot(121)\n",
    "ax2 = fig.add_subplot(122)\n",
    "\n",
    "\n",
    "#ax1.pcolormesh(navlon,navlat,rv_notide_over_f_JFM[0,:,:],cmap=seq_cmap,vmin=-0.15,vmax=0.15)\n",
    "#ax2.pcolormesh(navlon,navlat,rv_over_f_24h_JFM[0,:,:],cmap=seq_cmap,vmin=-0.15,vmax=0.15)\n",
    "\n",
    "plot_surf(121,rv_notide_over_f_JFM[0,:,:],navlon,navlat,vmin=-0.15,vmax=0.15,cmap=seq_cmap,title='RV no tide')\n",
    "plot_surf(122,rv_over_f_24h_JFM[0,:,:],navlon,navlat,vmin=-0.15,vmax=0.15,cmap=seq_cmap,title='24h average')\n",
    "\n",
    "\n",
    "plt.suptitle('RV evolution during JFM',size=18,y=1.0)\n",
    "ax1.set_title('RV no tide', size=14, y=1.0)\n",
    "ax2.set_title('24h average', size=14, y=1.0)\n",
    "\n",
    "#divider_ax1 = make_axes_locatable(ax1)\n",
    "#divider_ax2 = make_axes_locatable(ax2)\n",
    "#cax1 = divider_ax1.append_axes(\"bottom\", size=\"5%\", pad=0.05)\n",
    "#cax2 = divider_ax2.append_axes(\"bottom\", size=\"5%\", pad=0.05)\n",
    "\n",
    "#ax1.colorbar(orientation='horizontal',pad=0.1,extend='both',cax=cax1)\n",
    "#ax2.colorbar(orientation='horizontal',pad=0.1,extend='both',cax=cax2)\n",
    "\n",
    "\n",
    "def animate(i):\n",
    "    \n",
    "    ax1.pcolormesh(navlon,navlat,rv_notide_over_f_JFM[i,:,:],cmap=seq_cmap,vmin=-0.15,vmax=0.15)\n",
    "    ax2.pcolormesh(navlon,navlat,rv_over_f_24h_JFM[i,:,:],cmap=seq_cmap,vmin=-0.15,vmax=0.15)\n",
    "    \n",
    "     \n",
    "anim = FuncAnimation(fig, animate, frames=10, interval=100,repeat=False) # frames=100, interval=250\n",
    "anim.save('RV_Acores_features.mp4',dpi=700)"
   ]
  },
  {
   "cell_type": "markdown",
   "metadata": {},
   "source": [
    "import matplotlib.colors as colors\n",
    "\n",
    "fig = plt.figure(figsize=(14,7))\n",
    "ax1 = fig.add_subplot(121,projection=ccrs.PlateCarree())\n",
    "ax2 = fig.add_subplot(122,projection=ccrs.PlateCarree())\n",
    "\n",
    "plot_surf_anim(rv_notide_over_f_JFM[0,:,:],rv_over_f_24h_JFM[0,:,:],navlon,navlat,vmin=-0.15,vmax=0.15,cmap=seq_cmap,title='RV no tide')\n",
    "plot_surf_anim(rv_notide_over_f_JFM[0,:,:],rv_over_f_24h_JFM[0,:,:],navlon,navlat,vmin=-0.15,vmax=0.15,cmap=seq_cmap,title='24h average')\n",
    "\n",
    "\n",
    "#plt.suptitle('RV evolution during JFM',size=18,y=1.0)\n",
    "#ax1.set_title('RV no tide', size=14, y=1.0)\n",
    "#ax2.set_title('24h average', size=14, y=1.0)\n",
    "\n",
    "\n",
    "\n",
    "def animate(i):\n",
    "    \n",
    "    pcolor1 = ax1.pcolormesh(navlon,navlat,rv_notide_over_f_JFM[i,:,:],cmap=seq_cmap,vmin=-0.15,vmax=0.15)\n",
    "    pcolor2 = ax2.pcolormesh(navlon,navlat,rv_over_f_24h_JFM[i,:,:],cmap=seq_cmap,vmin=-0.15,vmax=0.15)\n",
    "    \n",
    "     \n",
    "anim = FuncAnimation(fig, animate, frames=10, interval=100,repeat=False) # frames=100, interval=250\n",
    "anim.save('RV_Acores_features.mp4',dpi=700)"
   ]
  },
  {
   "cell_type": "code",
   "execution_count": 12,
   "metadata": {},
   "outputs": [],
   "source": [
    "def plot_surf_anim(data1,data2,lon,lat,vmin,vmax,cmap,title):\n",
    "    \n",
    "    fig = plt.figure(figsize=(17,17))\n",
    "    ax1 = fig.add_subplot(121,projection=ccrs.PlateCarree())\n",
    "    ax2 = fig.add_subplot(122,projection=ccrs.PlateCarree())\n",
    "    \n",
    "    norm_fld = colors.Normalize(vmin=vmin, vmax=vmax, clip=False)\n",
    "    \n",
    "    pcolor1 = plt.pcolormesh(lon,lat,data1[0,:,:],cmap=cmap,vmin=vmin,vmax=vmax,norm = norm_fld)\n",
    "    pcolor2 = plt.pcolormesh(lon,lat,data2[0,:,:],cmap=cmap,vmin=vmin,vmax=vmax,norm = norm_fld)\n",
    "    \n",
    "    # Colorbar ax1\n",
    "    cax1,kw1   = mpl.colorbar.make_axes(ax1,location='bottom',pad=0.05,shrink=0.7)\n",
    "    out1       = fig.colorbar(pcolor1,cax=cax1,extend='max',**kw1)\n",
    "    out1.set_label('$\\zeta/f$')\n",
    "    out1.ax.tick_params(labelsize=10)\n",
    "    xticks_ax1 = np.linspace(vmin,vmax,num=5)\n",
    "    out1.set_ticks(xticks_ax1)\n",
    "    \n",
    "    # Colorbar ax2\n",
    "    cax2,kw2   = mpl.colorbar.make_axes(ax2,location='bottom',pad=0.05,shrink=0.7)\n",
    "    out2       = fig.colorbar(pcolor2,cax=cax2,extend='max',**kw2)\n",
    "    out2.set_label('$\\zeta/f$')\n",
    "    out2.ax.tick_params(labelsize=10)\n",
    "    xticks_ax2 = np.linspace(vmin,vmax,num=5)\n",
    "    out2.set_ticks(xticks_ax2)\n",
    "    \n",
    "    # Grid    \n",
    "    gl1            = ax1.gridlines(crs=ccrs.PlateCarree(),draw_labels=True,lw=1,color='gray',alpha=0.8, ls='--')\n",
    "    gl1.xformatter = LONGITUDE_FORMATTER\n",
    "    gl1.yformatter = LATITUDE_FORMATTER\n",
    "    gl2            = ax2.gridlines(crs=ccrs.PlateCarree(),draw_labels=True,lw=1,color='gray',alpha=0.8, ls='--')\n",
    "    gl2.xformatter = LONGITUDE_FORMATTER\n",
    "    gl2.yformatter = LATITUDE_FORMATTER\n",
    "    \n",
    "    ax1.set_title('$\\zeta/f$ no tide',size=14, y=1.1)\n",
    "    ax2.set_title('$\\zeta/f$ 24h average',size=14, y=1.1)\n",
    "    plt.suptitle(title,size=18,y=0.8)\n",
    "\n",
    "    # Area of interest\n",
    "    ax1.plot([-31, -28], [33, 33],color='black',linewidth=4)\n",
    "    ax1.plot([-31, -28], [36, 36],color='black',linewidth=4)\n",
    "    ax1.plot([-31, -31], [33, 36],color='black',linewidth=4)\n",
    "    ax1.plot([-28, -28], [33, 36],color='black',linewidth=4)\n",
    "    \n",
    "    ax2.plot([-31, -28], [33, 33],color='black',linewidth=4)\n",
    "    ax2.plot([-31, -28], [36, 36],color='black',linewidth=4)\n",
    "    ax2.plot([-31, -31], [33, 36],color='black',linewidth=4)\n",
    "    ax2.plot([-28, -28], [33, 36],color='black',linewidth=4)\n",
    "    \n",
    "    \n",
    "    \n",
    "    def animate(i):\n",
    "\n",
    "        pcolor1 = ax1.pcolormesh(lon,lat,data1[i,:,:],cmap=cmap,vmin=vmin,vmax=vmax)\n",
    "        pcolor2 = ax2.pcolormesh(lon,lat,data2[i,:,:],cmap=cmap,vmin=vmin,vmax=vmax)\n",
    "\n",
    "\n",
    "    anim = FuncAnimation(fig, animate, frames=100, interval=250,repeat=False,cache_frame_data=False) # frames=100, interval=250\n",
    "    anim.save('RV_Acores_high.mp4',dpi=700) \n",
    "    #HTML(anim.to_html5_video())"
   ]
  },
  {
   "cell_type": "code",
   "execution_count": null,
   "metadata": {},
   "outputs": [],
   "source": [
    "plot_surf_anim(rv_notide_over_f_JFM,rv_over_f_24h_JFM,navlon,navlat,vmin=-0.15,vmax=0.15,cmap=seq_cmap,title='$\\zeta/f$ evolution during JFM')"
   ]
  },
  {
   "cell_type": "code",
   "execution_count": null,
   "metadata": {},
   "outputs": [],
   "source": []
  },
  {
   "cell_type": "code",
   "execution_count": null,
   "metadata": {},
   "outputs": [],
   "source": []
  }
 ],
 "metadata": {
  "kernelspec": {
   "display_name": "Python 3",
   "language": "python",
   "name": "python3"
  },
  "language_info": {
   "codemirror_mode": {
    "name": "ipython",
    "version": 3
   },
   "file_extension": ".py",
   "mimetype": "text/x-python",
   "name": "python",
   "nbconvert_exporter": "python",
   "pygments_lexer": "ipython3",
   "version": "3.8.1"
  }
 },
 "nbformat": 4,
 "nbformat_minor": 4
}
